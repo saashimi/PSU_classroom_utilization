{
 "cells": [
  {
   "cell_type": "markdown",
   "metadata": {},
   "source": [
    "##Code \n",
    "Not very pythonic at this point"
   ]
  },
  {
   "cell_type": "code",
   "execution_count": 358,
   "metadata": {
    "collapsed": false
   },
   "outputs": [],
   "source": [
    "## Constants used by this program\n",
    "CONSONANTS = \"bcdfghjklmnpqrstvwyz\" \n",
    "VOWELS = \"aeiou\"  \n",
    "\n",
    "def convert_pin(pin):\n",
    "    if pin is None:\n",
    "        return ValueError\n",
    "\n",
    "    elif type(pin) is str:\n",
    "        return ValueError\n",
    "    \n",
    "    elif pin == 0:\n",
    "        return ValueError\n",
    "    \n",
    "    con_lst = list(CONSONANTS)\n",
    "    vow_lst = list(VOWELS)\n",
    "    \n",
    "    \n",
    "# create an algorithm that works with the string of the input\n",
    "    \n",
    "    u_pin = str(pin)\n",
    "    length = len(u_pin)\n",
    "    pin_lst = []\n",
    "    \n",
    "### Converts a string a list of pairs.  If there are no pairs, \n",
    "### inserts a 0 before the leading number.\n",
    "\n",
    "    for char in range(0, length, 2):\n",
    "        try:\n",
    "            pair = (u_pin[char] + u_pin[char + 1])\n",
    "            pin_lst.append(pair)\n",
    "\n",
    "        except IndexError:\n",
    "            pin_lst = []\n",
    "            u_pin = \"0\" + str(pin)\n",
    "            for char in range(0, length, 2):\n",
    "                pair = (u_pin[char] + u_pin[char + 1])\n",
    "                pin_lst.append(pair)\n",
    "\n",
    "### Starts the list conversion by converting to integers                \n",
    "    int_lst = [int(i) for i in pin_lst] \n",
    "    print(int_lst)\n",
    "    n = len(int_lst)\n",
    "        \n",
    "    fin_con_lst = []\n",
    "    for item in range(n):\n",
    "        a = int_lst[item]   \n",
    "        con_index = a // 5\n",
    "        con_alpha = con_lst[con_index]\n",
    "        fin_con_lst.append(con_alpha)\n",
    "               \n",
    "    fin_vow_lst = []\n",
    "    for item in range(n):\n",
    "        a = int_lst[item]    \n",
    "        vow_index = a % 5\n",
    "        vow_alpha = vow_lst[vow_index]\n",
    "        fin_vow_lst.append(vow_alpha)\n",
    "    \n",
    "    final_word = []\n",
    "    for item in range(n):\n",
    "        pairs = fin_con_lst[item] + fin_vow_lst[item]\n",
    "        final_word.append(pairs)  \n",
    "    \n",
    "    strg_lst = ''.join(str(e) for e in final_word)\n",
    "    return strg_lst"
   ]
  },
  {
   "cell_type": "code",
   "execution_count": 361,
   "metadata": {
    "collapsed": false
   },
   "outputs": [
    {
     "name": "stdout",
     "output_type": "stream",
     "text": [
      "[81, 88, 31, 93, 74, 51, 2, 5, 53, 72]\n"
     ]
    },
    {
     "data": {
      "text/plain": [
       "'vewojeyosunebicanosi'"
      ]
     },
     "execution_count": 361,
     "metadata": {},
     "output_type": "execute_result"
    }
   ],
   "source": [
    "convert_pin(81883193745102055372)"
   ]
  },
  {
   "cell_type": "markdown",
   "metadata": {},
   "source": [
    "## Unit Test"
   ]
  },
  {
   "cell_type": "code",
   "execution_count": 356,
   "metadata": {
    "collapsed": false
   },
   "outputs": [
    {
     "name": "stdout",
     "output_type": "stream",
     "text": [
      "[43, 27]\n",
      "[12, 98]\n",
      "Success: test_convert_pin\n"
     ]
    }
   ],
   "source": [
    "# %load test_foo.py\n",
    "from nose.tools import assert_equal\n",
    "\n",
    "\n",
    "class Testconvert_pin(object):\n",
    "\n",
    "    def test_convert_pin(self):\n",
    "        assert_equal(convert_pin(None), ValueError)\n",
    "        assert_equal(convert_pin('absd'), ValueError)\n",
    "        assert_equal(convert_pin(0), ValueError)\n",
    "        assert_equal(convert_pin(4327), 'lohi')\n",
    "        assert_equal(convert_pin(1298), 'dizo')\n",
    "        print('Success: test_convert_pin')\n",
    "\n",
    "def main():\n",
    "    test = Testconvert_pin()\n",
    "    test.test_convert_pin()\n",
    "\n",
    "if __name__ == '__main__':\n",
    "    main()"
   ]
  },
  {
   "cell_type": "code",
   "execution_count": 221,
   "metadata": {
    "collapsed": false
   },
   "outputs": [],
   "source": [
    "s = ['1', '2', '3', '4']\n",
    "\n",
    "def test():\n",
    "    for i in range(3):\n",
    "        a = s[i]\n",
    "        int(a)\n",
    "        print(a)     \n",
    "    \n",
    "        "
   ]
  },
  {
   "cell_type": "code",
   "execution_count": 222,
   "metadata": {
    "collapsed": false
   },
   "outputs": [
    {
     "name": "stdout",
     "output_type": "stream",
     "text": [
      "1\n",
      "2\n",
      "3\n"
     ]
    }
   ],
   "source": [
    "test()"
   ]
  },
  {
   "cell_type": "code",
   "execution_count": null,
   "metadata": {
    "collapsed": true
   },
   "outputs": [],
   "source": [
    "    for char in range(0, length, 2):\n",
    "        try:\n",
    "            pair = (u_pin[char] + u_pin[char + 1])\n",
    "            pin_lst.append(pair)\n",
    "\n",
    "        except IndexError:\n",
    "            pin_lst = []\n",
    "            u_pin = \"0\" + str(pin)\n",
    "            for char in range(0, length, 2):\n",
    "                pair = (u_pin[char] + u_pin[char + 1])\n",
    "                pin_lst.append(pair)"
   ]
  }
 ],
 "metadata": {
  "kernelspec": {
   "display_name": "Python 3",
   "language": "python",
   "name": "python3"
  },
  "language_info": {
   "codemirror_mode": {
    "name": "ipython",
    "version": 3
   },
   "file_extension": ".py",
   "mimetype": "text/x-python",
   "name": "python",
   "nbconvert_exporter": "python",
   "pygments_lexer": "ipython3",
   "version": "3.4.3"
  }
 },
 "nbformat": 4,
 "nbformat_minor": 0
}
