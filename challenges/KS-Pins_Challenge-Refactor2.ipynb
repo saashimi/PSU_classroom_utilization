{
 "cells": [
  {
   "cell_type": "markdown",
   "metadata": {},
   "source": [
    "##Code \n",
    "Not very pythonic at this point"
   ]
  },
  {
   "cell_type": "code",
   "execution_count": 1,
   "metadata": {
    "collapsed": false
   },
   "outputs": [],
   "source": [
    "\"\"\"pin_convert.py: Contains the functions convert_pin() and convert_word(),\n",
    "which convert integers to readable consonant-vowel strings and back again.  \n",
    "\"\"\"\n",
    "\n",
    "def convert_pin(pin):\n",
    "    \"\"\"Takes input PIN numbers and converts them to a string of\n",
    "    readable letters. This function allows a PIN of any length\n",
    "    for input.\n",
    "    \n",
    "    This function uses lists of consonants and vowels which are indexed\n",
    "    from 0:19 and 0:4, respectively. For any two-digit integer x // 5, \n",
    "    the quotient will be an index for a consonant. For any two-digit integer\n",
    "    x % 5, the remainder will be an index for a vowel. The result\n",
    "    will be a readable word.\n",
    "    \n",
    "    Example:\n",
    "    --------\n",
    "    4327 --> 'lohi'\n",
    "    2055372 --> 'canosi'    \n",
    "    \n",
    "    Parameters\n",
    "    ----------\n",
    "    Input:\n",
    "    pin: a series of integers of any length.\n",
    "    \n",
    "    Output:\n",
    "    strg_output: a readable, pronounceable string of characters.\n",
    "    \"\"\"\n",
    "     \n",
    "    if pin is None: # An empty pin returns an error.\n",
    "        return ValueError\n",
    "\n",
    "    elif type(pin) is str: # A string will return an error. \n",
    "        return ValueError\n",
    "    \n",
    "    elif pin == 0: # Pin cannot be zero.\n",
    "        return ValueError\n",
    "    \n",
    "    CONSONANTS = \"bcdfghjklmnpqrstvwyz\" \n",
    "    VOWELS = \"aeiou\" \n",
    "    \n",
    "    con_lst = list(CONSONANTS)\n",
    "    vow_lst = list(VOWELS)    \n",
    "    u_pin = str(pin)\n",
    "    length = len(u_pin)\n",
    "    \n",
    "    pin_lst = []\n",
    "    for char in range(0, length, 2):\n",
    "        try: # Breaks the pin number up by pairs into a new list.\n",
    "            pair = (u_pin[char] + u_pin[char + 1])\n",
    "            pin_lst.append(pair)\n",
    "\n",
    "        except IndexError:\n",
    "            pin_lst = [] \n",
    "            u_pin = \"0\" + str(pin) # If pin number does not divide evenly \n",
    "                                   # into pairs, inserts a 0 before the \n",
    "                                   # first integer.\n",
    "            for char in range(0, length, 2):\n",
    "                pair = (u_pin[char] + u_pin[char + 1])\n",
    "                pin_lst.append(pair)\n",
    "            \n",
    "    int_lst = [int(i) for i in pin_lst] \n",
    "    print(int_lst)\n",
    "    #n = len(int_lst)\n",
    "        \n",
    "    fin_con_lst = [] # Takes an empty list and populates it with \n",
    "                     #    corresponding consonant indices.    \n",
    "    for item in int_lst:\n",
    "        a = item   \n",
    "        con_index = a // 5 # Floor division by 5 gives the index to the list\n",
    "                           #    of consonants.\n",
    "        con_alpha = con_lst[con_index]\n",
    "        fin_con_lst.append(con_alpha)\n",
    "        \n",
    "  \n",
    "    fin_vow_lst = [] # Takes an empty list and populates it with \n",
    "                     #     corresponding vowel indices.\n",
    "    for item in int_lst:\n",
    "        a = int_lst[item]    \n",
    "        vow_index = a % 5 # Remainder is the index to the list of vowels.\n",
    "        vow_alpha = vow_lst[vow_index]\n",
    "        fin_vow_lst.append(vow_alpha)\n",
    "\n",
    "    final_word = [] # A list of the final consonant-vowel pairs\n",
    "    for item in range(n):\n",
    "        pairs = fin_con_lst[item] + fin_vow_lst[item]\n",
    "        final_word.append(pairs)  \n",
    "        \n",
    "    strg_output = ''.join(str(e) for e in final_word) # The output string\n",
    "    return strg_output\n",
    "\n",
    "def convert_word(word):\n",
    "    \"\"\"Takes word comprised of consonant-vowel pairs and converts them to \n",
    "    their original PIN numbers. \n",
    "    \n",
    "    Note: This function uses the formula a = qm + r to solve for the \n",
    "    original value of the PIN number.\n",
    "    \n",
    "    Example:\n",
    "    --------\n",
    "    'lohi' --> 4327\n",
    "    'canosi' --> 2055372    \n",
    "    \n",
    "    Parameters\n",
    "    ----------\n",
    "    Input:\n",
    "    word: a word comprised of consonant-vowel pairs.\n",
    "    \n",
    "    Output:\n",
    "    A PIN number.\n",
    "    \"\"\"\n",
    "    if word is None: # An empty word returns an error.\n",
    "        return ValueError\n",
    "\n",
    "    elif type(word) is int: # Ints will return an error. \n",
    "        return ValueError\n",
    "    \n",
    "    CONSONANTS = \"bcdfghjklmnpqrstvwyz\" \n",
    "    VOWELS = \"aeiou\"\n",
    "    con_lst = list(CONSONANTS)\n",
    "    vow_lst = list(VOWELS) \n",
    "    \n",
    "    u_word = str(word)\n",
    "    length = len(u_word)\n",
    "    \n",
    "    con_pin = []\n",
    "    for char in range(0, length, 2):\n",
    "        con = u_word[char] # This is a string of only consonants. \n",
    "        con_index = con_lst.index(con) \n",
    "        con_pin.append(con_index)\n",
    "    \n",
    "    vow_pin = []\n",
    "    for char in range(1, length, 2):\n",
    "        vow = u_word[char] # This is a string of only vowels.\n",
    "        vow_index = vow_lst.index(vow) \n",
    "        vow_pin.append(vow_index)\n",
    "\n",
    "    fin_pin = []\n",
    "    length2 = len(con_pin)\n",
    "    for item in range(length2): # Calculate the original 2-digit integers\n",
    "                                #    using the formula a = qm + r\n",
    "        q = con_pin[item]\n",
    "        m = 5\n",
    "        r = vow_pin[item]\n",
    "        calc_pin = q * m + r\n",
    "        fin_pin.append(calc_pin)\n",
    "    print(fin_pin)\n",
    "    \n",
    "    fin_pin1 = [] # Creates a new empty list \n",
    "    for item in range(length2):\n",
    "        if fin_pin[item] < 10:\n",
    "            fin_pin[item] = '0' + str(fin_pin[item]) \n",
    "        else:\n",
    "            fin_pin1.append(fin_pin[item])\n",
    "    \n",
    "    pin_output = ''.join(str(e) for e in fin_pin)\n",
    "    \n",
    "    return pin_output\n",
    "        \n",
    " \n",
    "    "
   ]
  },
  {
   "cell_type": "code",
   "execution_count": 2,
   "metadata": {
    "collapsed": false
   },
   "outputs": [
    {
     "name": "stdout",
     "output_type": "stream",
     "text": [
      "[25, 64, 23, 30]\n"
     ]
    },
    {
     "ename": "IndexError",
     "evalue": "list index out of range",
     "output_type": "error",
     "traceback": [
      "\u001b[1;31m---------------------------------------------------------------------------\u001b[0m",
      "\u001b[1;31mIndexError\u001b[0m                                Traceback (most recent call last)",
      "\u001b[1;32m<ipython-input-2-12800117a4bd>\u001b[0m in \u001b[0;36m<module>\u001b[1;34m()\u001b[0m\n\u001b[1;32m----> 1\u001b[1;33m \u001b[0mconvert_pin\u001b[0m\u001b[1;33m(\u001b[0m\u001b[1;36m25642330\u001b[0m\u001b[1;33m)\u001b[0m\u001b[1;33m\u001b[0m\u001b[0m\n\u001b[0m",
      "\u001b[1;32m<ipython-input-1-f8a5c3e39094>\u001b[0m in \u001b[0;36mconvert_pin\u001b[1;34m(pin)\u001b[0m\n\u001b[0;32m     79\u001b[0m                      \u001b[1;31m#     corresponding vowel indices.\u001b[0m\u001b[1;33m\u001b[0m\u001b[1;33m\u001b[0m\u001b[0m\n\u001b[0;32m     80\u001b[0m     \u001b[1;32mfor\u001b[0m \u001b[0mitem\u001b[0m \u001b[1;32min\u001b[0m \u001b[0mint_lst\u001b[0m\u001b[1;33m:\u001b[0m\u001b[1;33m\u001b[0m\u001b[0m\n\u001b[1;32m---> 81\u001b[1;33m         \u001b[0ma\u001b[0m \u001b[1;33m=\u001b[0m \u001b[0mint_lst\u001b[0m\u001b[1;33m[\u001b[0m\u001b[0mitem\u001b[0m\u001b[1;33m]\u001b[0m\u001b[1;33m\u001b[0m\u001b[0m\n\u001b[0m\u001b[0;32m     82\u001b[0m         \u001b[0mvow_index\u001b[0m \u001b[1;33m=\u001b[0m \u001b[0ma\u001b[0m \u001b[1;33m%\u001b[0m \u001b[1;36m5\u001b[0m \u001b[1;31m# Remainder is the index to the list of vowels.\u001b[0m\u001b[1;33m\u001b[0m\u001b[0m\n\u001b[0;32m     83\u001b[0m         \u001b[0mvow_alpha\u001b[0m \u001b[1;33m=\u001b[0m \u001b[0mvow_lst\u001b[0m\u001b[1;33m[\u001b[0m\u001b[0mvow_index\u001b[0m\u001b[1;33m]\u001b[0m\u001b[1;33m\u001b[0m\u001b[0m\n",
      "\u001b[1;31mIndexError\u001b[0m: list index out of range"
     ]
    }
   ],
   "source": [
    "convert_pin(25642330)"
   ]
  },
  {
   "cell_type": "code",
   "execution_count": 16,
   "metadata": {
    "collapsed": false
   },
   "outputs": [
    {
     "data": {
      "text/plain": [
       "ValueError"
      ]
     },
     "execution_count": 16,
     "metadata": {},
     "output_type": "execute_result"
    }
   ],
   "source": [
    "convert_word('')"
   ]
  },
  {
   "cell_type": "markdown",
   "metadata": {},
   "source": [
    "## Unit Test"
   ]
  },
  {
   "cell_type": "code",
   "execution_count": 18,
   "metadata": {
    "collapsed": false
   },
   "outputs": [
    {
     "name": "stdout",
     "output_type": "stream",
     "text": [
      "[43, 27]\n",
      "[12, 98]\n",
      "Success: test_convert_pin\n"
     ]
    }
   ],
   "source": [
    "# %load test_foo.py\n",
    "from nose.tools import assert_equal\n",
    "\n",
    "\n",
    "class Testconvert_pin(object):\n",
    "\n",
    "    def test_convert_pin(self):\n",
    "        assert_equal(convert_pin(None), ValueError)\n",
    "        assert_equal(convert_pin('absd'), ValueError)\n",
    "        assert_equal(convert_pin(0), ValueError)\n",
    "        assert_equal(convert_pin(4327), 'lohi')\n",
    "        assert_equal(convert_pin(1298), 'dizo')\n",
    "        print('Success: test_convert_pin')\n",
    "\n",
    "def main():\n",
    "    test = Testconvert_pin()\n",
    "    test.test_convert_pin()\n",
    "\n",
    "if __name__ == '__main__':\n",
    "    main()"
   ]
  },
  {
   "cell_type": "markdown",
   "metadata": {},
   "source": [
    "## Refactor Again!"
   ]
  },
  {
   "cell_type": "code",
   "execution_count": 3,
   "metadata": {
    "collapsed": false
   },
   "outputs": [],
   "source": [
    "\"\"\"pin_convert.py: Contains the functions convert_pin() and convert_word(),\n",
    "which convert integers to readable consonant-vowel strings and back again.  \n",
    "\"\"\"\n",
    "__author__    = \"Kevin Saavedra\"\n",
    "\n",
    "\n",
    "def convert_pin(pin):\n",
    "    \"\"\"Takes input PIN numbers and converts them to a string of\n",
    "    readable letters. This function allows a PIN of any length\n",
    "    for input.\n",
    "    \n",
    "    This function uses lists of consonants and vowels which are indexed\n",
    "    from 0:19 and 0:4, respectively. For any two-digit integer x // 5, \n",
    "    the quotient will be an index for a consonant. For any two-digit integer\n",
    "    x % 5, the remainder will be an index for a vowel. The result\n",
    "    will be a readable word.\n",
    "    \n",
    "    Example:\n",
    "    --------\n",
    "    4327 --> 'lohi'\n",
    "    2055372 --> 'canosi'    \n",
    "    \n",
    "    Parameters\n",
    "    ----------\n",
    "    Input:\n",
    "    pin: a series of integers of any length.\n",
    "    \n",
    "    Output:\n",
    "    strg_output: a readable, pronounceable string of characters.\n",
    "    \"\"\"\n",
    "     \n",
    "    if pin is None: # An empty pin returns an error.\n",
    "        return ValueError\n",
    "\n",
    "    elif type(pin) is str: # A string will return an error. \n",
    "        return ValueError\n",
    "    \n",
    "    elif pin == 0: # Pin cannot be zero.\n",
    "        return ValueError\n",
    "    \n",
    "    CONSONANTS = \"bcdfghjklmnpqrstvwyz\" \n",
    "    VOWELS = \"aeiou\" \n",
    "    \n",
    "    con_lst = list(CONSONANTS)\n",
    "    vow_lst = list(VOWELS)    \n",
    "    u_pin = str(pin)\n",
    "    length = len(u_pin)\n",
    "    \n",
    "    pin_lst = []\n",
    "    for char in range(0, length, 2):\n",
    "        try: # Breaks the pin number up by pairs into a new list.\n",
    "            pair = (u_pin[char] + u_pin[char + 1])\n",
    "            pin_lst.append(pair)\n",
    "\n",
    "        except IndexError:\n",
    "            pin_lst = [] # If pin number does not divide evenly into pairs,\n",
    "                         # inserts a 0 before the first integer.\n",
    "            u_pin = \"0\" + str(pin)\n",
    "            for char in range(0, length, 2):\n",
    "                pair = (u_pin[char] + u_pin[char + 1])\n",
    "                pin_lst.append(pair)\n",
    "            \n",
    "    int_lst = [int(i) for i in pin_lst] \n",
    "          \n",
    "    fin_con_lst = [] # Takes an empty list and populates it with \n",
    "                     # corresponding consonant indices.    \n",
    "    for item in int_lst:\n",
    "        a = item   \n",
    "        con_index = a // 5 # Floor division by 5 gives the index to the list\n",
    "                           # of consonants.\n",
    "        con_alpha = con_lst[con_index]\n",
    "        fin_con_lst.append(con_alpha)\n",
    "        \n",
    "  \n",
    "    fin_vow_lst = [] # Takes an empty list and populates it with \n",
    "                     # corresponding vowel indices.\n",
    "    for item in int_lst:\n",
    "        a = item    \n",
    "        vow_index = a % 5 # Remainder is the index to the list of vowels.\n",
    "        vow_alpha = vow_lst[vow_index]\n",
    "        fin_vow_lst.append(vow_alpha)\n",
    "\n",
    "    final_lst = [] # A list of the final consonant-vowel pairs\n",
    "    n = len(fin_con_lst)\n",
    "    for item in range(n):\n",
    "        pairs = fin_con_lst[item] + fin_vow_lst[item]\n",
    "        final_lst.append(pairs)  \n",
    "    \n",
    "    strg_output(final_lst)\n",
    "\n",
    "def convert_word(word):\n",
    "    \"\"\"Takes word comprised of consonant-vowel pairs and converts them to \n",
    "    their original PIN numbers. \n",
    "    \n",
    "    Note: This function uses the formula a = qm + r to solve for the \n",
    "    original value of the PIN number.\n",
    "    \n",
    "    Example:\n",
    "    --------\n",
    "    'lohi' --> 4327\n",
    "    'canosi' --> 2055372    \n",
    "    \n",
    "    Parameters\n",
    "    ----------\n",
    "    Input:\n",
    "    word: a word comprised of consonant-vowel pairs.\n",
    "    \n",
    "    Output:\n",
    "    A PIN number.\n",
    "    \"\"\"\n",
    "    if word is None: # An empty word returns an error.\n",
    "        return ValueError\n",
    "\n",
    "    elif type(word) is int: # Ints will return an error. \n",
    "        return ValueError\n",
    "    \n",
    "    CONSONANTS = \"bcdfghjklmnpqrstvwyz\" \n",
    "    VOWELS = \"aeiou\"\n",
    "    con_lst = list(CONSONANTS)\n",
    "    vow_lst = list(VOWELS) \n",
    "    \n",
    "    u_word = str(word)\n",
    "    length = len(u_word)\n",
    "    \n",
    "    con_pin = []\n",
    "    for char in range(0, length, 2):\n",
    "        con = u_word[char] # This is a string of only consonants. \n",
    "        con_index = con_lst.index(con) \n",
    "        con_pin.append(con_index)\n",
    "    \n",
    "    vow_pin = []\n",
    "    for char in range(1, length, 2):\n",
    "        vow = u_word[char] # This is a string of only vowels.\n",
    "        vow_index = vow_lst.index(vow) \n",
    "        vow_pin.append(vow_index)\n",
    "\n",
    "    fin_pin = []\n",
    "    for item in range(len(con_pin)): # Calculate the original 2-digit integers\n",
    "                                     # using the formula a = qm + r\n",
    "        q = con_pin[item]\n",
    "        m = 5\n",
    "        r = vow_pin[item]\n",
    "        calc_pin = q * m + r\n",
    "        fin_pin.append(calc_pin)\n",
    "        \n",
    "    final_lst = [] \n",
    "    for item in fin_pin: \n",
    "        if item < 10: # In order to create a two-digit number for \n",
    "                      # numbers <10, we need to insert a '0' \n",
    "                      # in front of the digit.\n",
    "            item = '0' + str(item) \n",
    "        else:\n",
    "            final_lst.append(item)\n",
    "    \n",
    "    strg_output(final_lst)\n",
    "           \n",
    "def strg_output(final_lst):\n",
    "    \"\"\"Prints the final lists generated from convert_pin() or convert_word()\n",
    "        into an output string. \n",
    "    \"\"\" \n",
    "    final_string = ''.join(str(e) for e in final_lst) # The output string\n",
    "    print(final_string)\n",
    "    "
   ]
  },
  {
   "cell_type": "code",
   "execution_count": 4,
   "metadata": {
    "collapsed": false
   },
   "outputs": [
    {
     "name": "stdout",
     "output_type": "stream",
     "text": [
      "8188319374\n"
     ]
    }
   ],
   "source": [
    "convert_word('vewojeyosu')"
   ]
  },
  {
   "cell_type": "code",
   "execution_count": 5,
   "metadata": {
    "collapsed": false
   },
   "outputs": [
    {
     "name": "stdout",
     "output_type": "stream",
     "text": [
      "doki\n"
     ]
    }
   ],
   "source": [
    "convert_pin(1337)"
   ]
  },
  {
   "cell_type": "code",
   "execution_count": null,
   "metadata": {
    "collapsed": true
   },
   "outputs": [],
   "source": []
  }
 ],
 "metadata": {
  "kernelspec": {
   "display_name": "Python 3",
   "language": "python",
   "name": "python3"
  },
  "language_info": {
   "codemirror_mode": {
    "name": "ipython",
    "version": 3
   },
   "file_extension": ".py",
   "mimetype": "text/x-python",
   "name": "python",
   "nbconvert_exporter": "python",
   "pygments_lexer": "ipython3",
   "version": "3.4.3"
  }
 },
 "nbformat": 4,
 "nbformat_minor": 0
}
