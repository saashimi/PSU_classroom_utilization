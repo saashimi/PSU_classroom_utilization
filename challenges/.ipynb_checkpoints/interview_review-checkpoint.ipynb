{
 "cells": [
  {
   "cell_type": "code",
   "execution_count": null,
   "metadata": {
    "collapsed": true
   },
   "outputs": [],
   "source": [
    "def rev_str(string):\n",
    "    lst_str = list(string)\n",
    "    rev_lst = []\n",
    "    while len(lst_str) > 0:\n",
    "        temp = lst_str.pop(-1)\n",
    "        rev_lst.append(temp)\n",
    "    final = \"\".join(rev_lst)\n",
    "    print(final)\n",
    "      "
   ]
  },
  {
   "cell_type": "code",
   "execution_count": null,
   "metadata": {
    "collapsed": false
   },
   "outputs": [],
   "source": [
    "rev_str('something something')"
   ]
  },
  {
   "cell_type": "code",
   "execution_count": null,
   "metadata": {
    "collapsed": true
   },
   "outputs": [],
   "source": [
    "# recursive string reversal method:\n",
    "def rev_recurse(string):\n",
    "    if len(string) <= 1:\n",
    "        return string\n",
    "    return rev_recurse(string[1:]) + string[0]"
   ]
  },
  {
   "cell_type": "code",
   "execution_count": null,
   "metadata": {
    "collapsed": false
   },
   "outputs": [],
   "source": [
    "rev_recurse('whatevs')"
   ]
  },
  {
   "cell_type": "code",
   "execution_count": null,
   "metadata": {
    "collapsed": false
   },
   "outputs": [],
   "source": [
    "# Check if a string is a rotation\n",
    "\n",
    "def is_rotation(orig_str, test_str):\n",
    "    if orig_str == test_str:\n",
    "        return True\n",
    "    \n",
    "    else:\n",
    "        temp1 = \"\"\n",
    "        temp2 = \"\"\n",
    "        for char in test_str:\n",
    "            if char in orig_str:\n",
    "                temp1 = temp1 + char\n",
    "                if temp1 in orig_str:\n",
    "                    continue\n",
    "                else:\n",
    "                    temp1 = temp1[:-1] #We have to remove the last letter to get the last known \"good\" string\n",
    "                    temp2 = temp2 + char\n",
    "                    if temp2 in orig_str:\n",
    "                        continue\n",
    "\n",
    "        fin_str_test = temp2 + temp1\n",
    "\n",
    "        if fin_str_test == orig_str:\n",
    "            return True\n",
    "        else:\n",
    "            return False\n",
    "\n",
    "assert is_rotation(\"foobar\", \"barfoo\") == True\n",
    "assert is_rotation(\"a\", \"a\") == True"
   ]
  },
  {
   "cell_type": "code",
   "execution_count": null,
   "metadata": {
    "collapsed": false
   },
   "outputs": [],
   "source": [
    "is_rotation('starbucks', 'bucksstar')"
   ]
  },
  {
   "cell_type": "code",
   "execution_count": null,
   "metadata": {
    "collapsed": false
   },
   "outputs": [],
   "source": [
    "# Change machine:\n",
    "\n",
    "def make_change(amount):\n",
    "    \n",
    "    quarter_count = 0\n",
    "    dime_count = 0\n",
    "    nickel_count = 0\n",
    "    penny_count = 0\n",
    "    \n",
    "    if amount >= .25:\n",
    "        while amount >= .25:\n",
    "            amount -= .25\n",
    "            quarter_count += 1\n",
    "            \n",
    "    if amount >= .10:\n",
    "        while amount >= .10:\n",
    "            amount -= .10\n",
    "            dime_count += 1\n",
    "            \n",
    "    if amount >= .05:\n",
    "        while amount >= .05:\n",
    "            amount -= .05\n",
    "            nickel_count += 1\n",
    "            \n",
    "    if amount >= .01:\n",
    "        while amount >= .00:\n",
    "            amount -= .01\n",
    "            penny_count += 1\n",
    "            \n",
    "    output = (\"quarters = \" + str(quarter_count) + \n",
    "              \" nickels = \" + str(nickel_count) + \n",
    "              \" dimes = \" + str(dime_count) + \n",
    "              \" pennies = \" + str(penny_count) \n",
    "             )\n",
    "                    \n",
    "    return output\n",
    "        "
   ]
  },
  {
   "cell_type": "code",
   "execution_count": null,
   "metadata": {
    "collapsed": false
   },
   "outputs": [],
   "source": [
    "make_change(.99)"
   ]
  },
  {
   "cell_type": "code",
   "execution_count": null,
   "metadata": {
    "collapsed": true
   },
   "outputs": [],
   "source": [
    "# check to see if a word is an anagram:\n",
    "\n",
    "def anagram(word, test_string):\n",
    "    word_lst = list(word)\n",
    "    test_lst = list(test_string)\n",
    "    test_lst.sort()\n",
    "    word_lst.sort()\n",
    "       \n",
    "    if test_lst == word_lst:\n",
    "        return True\n",
    "    else:\n",
    "        return False"
   ]
  },
  {
   "cell_type": "code",
   "execution_count": null,
   "metadata": {
    "collapsed": false
   },
   "outputs": [],
   "source": [
    "anagram(\"bananahammock\", \"mockmahananab\")"
   ]
  },
  {
   "cell_type": "code",
   "execution_count": null,
   "metadata": {
    "collapsed": false
   },
   "outputs": [],
   "source": [
    "# merge sort(adapted from wikipedia pseudocode):\n",
    "def merge_sort(lst_):\n",
    "    if len(lst_) <= 1:\n",
    "        return lst_\n",
    "    \n",
    "    left = []\n",
    "    right = []\n",
    "    \n",
    "    for index in range(len(lst_)):\n",
    "        if index % 2 != 0:\n",
    "            left.append(lst_[index])\n",
    "        else:\n",
    "            right.append(lst_[index])\n",
    "    print(lst_)    \n",
    "    \n",
    "    left = merge_sort(left) #recursively fill the left and right lists\n",
    "    right = merge_sort(right)\n",
    "       \n",
    "    def merge(left, right):\n",
    "        result = []\n",
    "        while len(left) > 0 and len(right) > 0:\n",
    "            if left[0] <= right[0]:\n",
    "                result.append(left[0])\n",
    "                left = left[1:]\n",
    "            else:\n",
    "                result.append(right[0])\n",
    "                right = right[1:]\n",
    "\n",
    "        while len(left) > 0:\n",
    "            result.append(left[0])\n",
    "            left = left[1:]\n",
    "\n",
    "        while len(right) > 0:\n",
    "            result.append(right[0])\n",
    "            right = right[1:]\n",
    "\n",
    "        return result\n",
    "    \n",
    "    return merge(left, right)\n",
    "\n"
   ]
  },
  {
   "cell_type": "code",
   "execution_count": null,
   "metadata": {
    "collapsed": false
   },
   "outputs": [],
   "source": [
    "lst = [9, 12, 96, 6565, 73, 1]\n",
    "merge_sort(lst)"
   ]
  },
  {
   "cell_type": "code",
   "execution_count": null,
   "metadata": {
    "collapsed": false
   },
   "outputs": [],
   "source": [
    "class Aircraft(object):\n",
    "    \n",
    "    def __init__(self, make, designation, model):\n",
    "        self.make = make\n",
    "        self.designation = designation\n",
    "        self.model = model\n",
    "        \n",
    "    def is_retired(self):\n",
    "        if self.designation < 18 or self.designation > 35:\n",
    "            return \"This jet is out of active service.\"\n",
    "        else:\n",
    "            return \"This jet is in active service.\"\n",
    "        "
   ]
  },
  {
   "cell_type": "code",
   "execution_count": null,
   "metadata": {
    "collapsed": false
   },
   "outputs": [],
   "source": [
    "tomcat = Aircraft('Grumman', 14, 'Tomcat')\n",
    "hornet = Aircraft('Boeing', 18, 'Hornet')\n",
    "phantom = Aircraft('McDonnell Douglas', 4, 'Phantom')"
   ]
  },
  {
   "cell_type": "code",
   "execution_count": null,
   "metadata": {
    "collapsed": false
   },
   "outputs": [],
   "source": [
    "hornet.is_retired()"
   ]
  },
  {
   "cell_type": "code",
   "execution_count": null,
   "metadata": {
    "collapsed": false
   },
   "outputs": [],
   "source": [
    "def rev_str(string):\n",
    "    char_lst = []\n",
    "    rev_lst = []\n",
    "    for char in string:\n",
    "        char_lst.append(char)\n",
    "    \n",
    "    while len(char_lst) > 0:\n",
    "        temp = char_lst.pop(-1)\n",
    "        rev_lst.append(temp)\n",
    "    \n",
    "    fin_str = \"\".join(rev_lst)\n",
    "    \n",
    "    return fin_str\n",
    "    \n",
    "assert rev_str(\"word\") == \"drow\"\n",
    "assert rev_str(\"a\") == \"a\"\n",
    "assert rev_str(\"two words\") == \"sdrow owt\""
   ]
  },
  {
   "cell_type": "code",
   "execution_count": null,
   "metadata": {
    "collapsed": false
   },
   "outputs": [],
   "source": [
    "rev_str('my word')"
   ]
  },
  {
   "cell_type": "code",
   "execution_count": 50,
   "metadata": {
    "collapsed": false
   },
   "outputs": [],
   "source": [
    "# Reverse a sentence (easy)\n",
    "def sentence_rev(sentence):\n",
    "    lst = sentence.split(\" \")\n",
    "    lst.reverse()\n",
    "    final = \" \".join(lst)\n",
    "    return final\n",
    "\n",
    "assert sentence_rev(\"This is a sentence.\") == \"sentence. a is This\""
   ]
  },
  {
   "cell_type": "code",
   "execution_count": 51,
   "metadata": {
    "collapsed": false
   },
   "outputs": [
    {
     "data": {
      "text/plain": [
       "'anything. reverse can You'"
      ]
     },
     "execution_count": 51,
     "metadata": {},
     "output_type": "execute_result"
    }
   ],
   "source": [
    "sentence_rev(\"You can reverse anything.\")"
   ]
  },
  {
   "cell_type": "code",
   "execution_count": 52,
   "metadata": {
    "collapsed": false
   },
   "outputs": [],
   "source": [
    "# Reverse a sentence with proper punctuation:\n",
    "\n",
    "def sentence_rev_punct(sentence):\n",
    "    lst = sentence.split(\" \")\n",
    "    first_word = lst[0]\n",
    "    last_word = lst[-1]\n",
    "    punct = \"\"\n",
    "    \n",
    "    if first_word[0].isupper():\n",
    "        first_word = first_word.lower()\n",
    "        \n",
    "    if last_word[-1].isalnum() == False:\n",
    "        punct = last_word[-1]\n",
    "        last_word = last_word[:-1]\n",
    "        \n",
    "    if last_word[0].islower():\n",
    "        last_word = last_word.title()\n",
    "    \n",
    "    lst[0] = first_word\n",
    "    lst[-1] = last_word\n",
    "    \n",
    "    lst.reverse()\n",
    "    final = \" \".join(lst) + punct\n",
    "    return final\n",
    "\n",
    "#assert sentence_rev_punct(\"This is a sentence.\") == \"Sentence is a this.\""
   ]
  },
  {
   "cell_type": "code",
   "execution_count": 53,
   "metadata": {
    "collapsed": false
   },
   "outputs": [
    {
     "data": {
      "text/plain": [
       "'Sentence a is this.'"
      ]
     },
     "execution_count": 53,
     "metadata": {},
     "output_type": "execute_result"
    }
   ],
   "source": [
    "sentence_rev_punct(\"This is a sentence.\")"
   ]
  },
  {
   "cell_type": "code",
   "execution_count": 55,
   "metadata": {
    "collapsed": false
   },
   "outputs": [
    {
     "name": "stdout",
     "output_type": "stream",
     "text": [
      "['A', 3, 'B', 'C', 2]\n"
     ]
    },
    {
     "ename": "AssertionError",
     "evalue": "",
     "output_type": "error",
     "traceback": [
      "\u001b[1;31m---------------------------------------------------------------------------\u001b[0m",
      "\u001b[1;31mAssertionError\u001b[0m                            Traceback (most recent call last)",
      "\u001b[1;32m<ipython-input-55-11aedb30b98b>\u001b[0m in \u001b[0;36m<module>\u001b[1;34m()\u001b[0m\n\u001b[0;32m     24\u001b[0m \u001b[1;33m\u001b[0m\u001b[0m\n\u001b[0;32m     25\u001b[0m \u001b[1;33m\u001b[0m\u001b[0m\n\u001b[1;32m---> 26\u001b[1;33m \u001b[1;32massert\u001b[0m \u001b[0mcompress\u001b[0m\u001b[1;33m(\u001b[0m\u001b[1;34m'AAABCCDD'\u001b[0m\u001b[1;33m)\u001b[0m \u001b[1;33m==\u001b[0m \u001b[1;34m'A3BC2D'\u001b[0m\u001b[1;33m\u001b[0m\u001b[0m\n\u001b[0m",
      "\u001b[1;31mAssertionError\u001b[0m: "
     ]
    }
   ],
   "source": [
    "# Compress a string\n",
    "\n",
    "def compress(string):\n",
    "    last = string[0]\n",
    "    counter = 0\n",
    "    compressed = []\n",
    "    \n",
    "    for char in string:\n",
    "        \n",
    "        if char != last:\n",
    "            compressed.append(last)\n",
    "            if counter > 1:\n",
    "                compressed.append(counter)\n",
    "                    \n",
    "            last = char\n",
    "            counter = 0\n",
    "        \n",
    "        if char == last:\n",
    "            counter += 1\n",
    "            \n",
    "        \n",
    "                    \n",
    "    print(compressed)\n",
    "    \n",
    "\n",
    "assert compress('AAABCCDD') == 'A3BC2D'"
   ]
  },
  {
   "cell_type": "code",
   "execution_count": null,
   "metadata": {
    "collapsed": false
   },
   "outputs": [],
   "source": [
    "compress('AAABCCD')"
   ]
  }
 ],
 "metadata": {
  "kernelspec": {
   "display_name": "Python 3",
   "language": "python",
   "name": "python3"
  },
  "language_info": {
   "codemirror_mode": {
    "name": "ipython",
    "version": 3
   },
   "file_extension": ".py",
   "mimetype": "text/x-python",
   "name": "python",
   "nbconvert_exporter": "python",
   "pygments_lexer": "ipython3",
   "version": "3.4.3+"
  }
 },
 "nbformat": 4,
 "nbformat_minor": 0
}
