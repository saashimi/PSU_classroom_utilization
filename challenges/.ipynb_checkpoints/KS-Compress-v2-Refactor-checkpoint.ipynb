{
 "cells": [
  {
   "cell_type": "code",
   "execution_count": 14,
   "metadata": {
    "collapsed": false,
    "scrolled": true
   },
   "outputs": [],
   "source": [
    "# Takes a string of characters and compresses it.\n",
    "__author__    = \"Kevin Saavedra\"\n",
    "\n",
    "def compress_string(string):\n",
    "    \"\"\"Takes an input string and compresses it by replacing repeated sequential\n",
    "    characters with the number of times they appear. \n",
    "    \n",
    "    Example:\n",
    "    --------\n",
    "    AAABBCCC --> 'A3B2C3'\n",
    "      \n",
    "    If a the length of a compressed string is not any longer than the original\n",
    "    string, then the original sequence is maintained. \n",
    "    \n",
    "    Example:\n",
    "    --------\n",
    "    AABBCC --> A2B2C2 --> AABBCC\n",
    "    \n",
    "    Parameters\n",
    "    ----------\n",
    "    Input:\n",
    "    string: a string of characters.\n",
    "    \n",
    "    Output:\n",
    "    compress_final: A compressed string.\n",
    "    \"\"\"\n",
    " \n",
    "    if string is None: # If no input, returns None.\n",
    "        return None\n",
    "    \n",
    "    elif string == \"\": # If empty string, returns empty string.\n",
    "        return \"\"  \n",
    "    \n",
    "    else:\n",
    "        lst = list(string)\n",
    "        n = len(lst)\n",
    "        comp_lst = []\n",
    "\n",
    "        for index in range(n): \n",
    "            if lst[index] != lst[index-1]: # Searches for unequal sequential \n",
    "                                           # values.\n",
    "                count = lst.count(lst[index]) \n",
    "                comp_lst.append(lst[index])\n",
    "                comp_lst.append(count)\n",
    "              \n",
    "        final_lst = ''.join(str(str_index) for str_index in comp_lst)\n",
    "\n",
    "        if len(final_lst) == len(lst): # If final length equals the final \n",
    "                                       # compressed length, defers to the\n",
    "                                       # original string.\n",
    "            strg_lst = ''.join(str(str_index) for str_index in lst)\n",
    "            final = str(strg_lst)\n",
    "            return final\n",
    "          \n",
    "        else:\n",
    "            compress_final = str(final_lst)\n",
    "            return compress_final\n"
   ]
  },
  {
   "cell_type": "code",
   "execution_count": 16,
   "metadata": {
    "collapsed": false
   },
   "outputs": [
    {
     "data": {
      "text/plain": [
       "'AABBCCDDDD'"
      ]
     },
     "execution_count": 16,
     "metadata": {},
     "output_type": "execute_result"
    }
   ],
   "source": [
    "compress_string('AABBCCDDDD')"
   ]
  },
  {
   "cell_type": "code",
   "execution_count": 10,
   "metadata": {
    "collapsed": false
   },
   "outputs": [
    {
     "data": {
      "text/plain": [
       "'A1B1C1D1'"
      ]
     },
     "execution_count": 10,
     "metadata": {},
     "output_type": "execute_result"
    }
   ],
   "source": [
    "compress_string('ABCD')"
   ]
  },
  {
   "cell_type": "markdown",
   "metadata": {},
   "source": [
    "# Unit Test"
   ]
  },
  {
   "cell_type": "code",
   "execution_count": 55,
   "metadata": {
    "collapsed": false
   },
   "outputs": [
    {
     "name": "stdout",
     "output_type": "stream",
     "text": [
      "Success: test_compress\n"
     ]
    }
   ],
   "source": [
    "from nose.tools import assert_equal\n",
    "\n",
    "\n",
    "class TestCompress(object):\n",
    "\n",
    "    def test_compress(self, func):\n",
    "        assert_equal(func(None), None)\n",
    "        assert_equal(func(''), '')\n",
    "        assert_equal(func('AABBCC'), 'AABBCC')\n",
    "        assert_equal(func('AAABCCDDDD'), 'A3B1C2D4')\n",
    "        print('Success: test_compress')\n",
    "\n",
    "\n",
    "def main():\n",
    "    test = TestCompress()\n",
    "    test.test_compress(compress_string)\n",
    "\n",
    "\n",
    "if __name__ == '__main__':\n",
    "    main()"
   ]
  }
 ],
 "metadata": {
  "kernelspec": {
   "display_name": "Python 3",
   "language": "python",
   "name": "python3"
  },
  "language_info": {
   "codemirror_mode": {
    "name": "ipython",
    "version": 3
   },
   "file_extension": ".py",
   "mimetype": "text/x-python",
   "name": "python",
   "nbconvert_exporter": "python",
   "pygments_lexer": "ipython3",
   "version": "3.4.3"
  }
 },
 "nbformat": 4,
 "nbformat_minor": 0
}
