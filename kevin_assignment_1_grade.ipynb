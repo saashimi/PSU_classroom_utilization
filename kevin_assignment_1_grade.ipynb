{
 "cells": [
  {
   "cell_type": "markdown",
   "metadata": {},
   "source": [
    "# wk1 individual challenges\n",
    "\n",
    "## Grading\n",
    "* 60 points: three out of four challenges present.\n",
    "  * -30 for each missing assignment.\n",
    "* For one arbitrarily chosen project (out of three):\n",
    "* 20 points: Program runs and consistently produces correct output.\n",
    "  * 5 point penalty for any of the following:\n",
    "    * Test cases running in addition to program functionality. (You need to 'comment out' the call to run_tests for your final testing and turn-in.)\n",
    "    * Incorrect or missing counts of matches or items in the word list.\n",
    "    * Other extra output, missing output, or output formatted differently than the examples above.\n",
    "* 10 points: Follows PEP8 coding guidelines, including author identification and header.\n",
    "* 10 points: Clarity. The program should not only be consistent with the requirements and approach described here, but it should be very easy to read the program and verify its consistency with the spec.\n",
    "\n",
    "# PEP8 Rules\n",
    "Use 4-space indentation, and no tabs.\n",
    "\n",
    "4 spaces are a good compromise between small indentation (allows greater nesting depth) and large indentation (easier to read). Tabs introduce confusion, and are best left out.\n",
    "\n",
    "Wrap lines so that they don’t exceed 79 characters.\n",
    "\n",
    "This helps users with small displays and makes it possible to have several code files side-by-side on larger displays.\n",
    "\n",
    "Use blank lines to separate functions and classes, and larger blocks of code inside functions.\n",
    "\n",
    "When possible, put comments on a line of their own.\n",
    "\n",
    "Use docstrings.\n",
    "\n",
    "Use spaces around operators and after commas, but not directly inside bracketing constructs: a = f(1, 2) + g(3, 4).\n",
    "\n",
    "Name your classes and functions consistently; the convention is to use CamelCase for classes and lower_case_with_underscores for functions and methods. Always use self as the name for the first method argument (see A First Look at Classes for more on classes and methods).\n",
    "\n",
    "Don’t use fancy encodings if your code is meant to be used in international environments. Python’s default, UTF-8, or even plain ASCII work best in any case.\n",
    "\n",
    "Likewise, don’t use non-ASCII characters in identifiers if there is only the slightest chance people speaking a different language will read or maintain the code.\n",
    "\n",
    "# Challenge:\n",
    "\n",
    "* 60/60 points: three out of four challenges present.\n",
    "\n",
    "* Remark: Nice job turning in your stuff!\n",
    "\n",
    "* 15/20 points: Program runs and consistently produces correct output\n",
    "\n",
    "* Remark: You and I went over some weird edge cases that broke your code so I'm taking of 5 points for that (-5). Make sure that your tests are comprehensive!\n",
    "\n",
    "* 10/10 points: Follows PEP8 coding guidelines, including author identification and header.\n",
    "\n",
    "* Your code is extremely well documented. Probably the cleanest docstrings I've seen so an extra 2 points for awesomeness (+2). Also the __author__ was a nice touch.\n",
    "\n",
    "* Make sure that your comments say *why* you did something, not what you did. (-2)\n",
    "\n",
    "* 6/10 points: Clarity. The program should not only be consistent with the requirements and approach described here, but it should be very easy to read the program and verify its consistency with the spec.\n",
    "\n",
    "* Deep nesting of code (e.g. for loops inside of if inside of for loops etc.) makes for hard to read logic. From *The Zen of Python*: \"Flat is better than nested\". (see below)(-4)\n",
    "\n",
    "## Total\n",
    "* 91/100 points"
   ]
  },
  {
   "cell_type": "code",
   "execution_count": 1,
   "metadata": {
    "collapsed": false
   },
   "outputs": [
    {
     "name": "stdout",
     "output_type": "stream",
     "text": [
      "The Zen of Python, by Tim Peters\n",
      "\n",
      "Beautiful is better than ugly.\n",
      "Explicit is better than implicit.\n",
      "Simple is better than complex.\n",
      "Complex is better than complicated.\n",
      "Flat is better than nested.\n",
      "Sparse is better than dense.\n",
      "Readability counts.\n",
      "Special cases aren't special enough to break the rules.\n",
      "Although practicality beats purity.\n",
      "Errors should never pass silently.\n",
      "Unless explicitly silenced.\n",
      "In the face of ambiguity, refuse the temptation to guess.\n",
      "There should be one-- and preferably only one --obvious way to do it.\n",
      "Although that way may not be obvious at first unless you're Dutch.\n",
      "Now is better than never.\n",
      "Although never is often better than *right* now.\n",
      "If the implementation is hard to explain, it's a bad idea.\n",
      "If the implementation is easy to explain, it may be a good idea.\n",
      "Namespaces are one honking great idea -- let's do more of those!\n"
     ]
    }
   ],
   "source": [
    "import this"
   ]
  },
  {
   "cell_type": "code",
   "execution_count": null,
   "metadata": {
    "collapsed": true
   },
   "outputs": [],
   "source": []
  }
 ],
 "metadata": {
  "kernelspec": {
   "display_name": "Python 3",
   "language": "python",
   "name": "python3"
  },
  "language_info": {
   "codemirror_mode": {
    "name": "ipython",
    "version": 3
   },
   "file_extension": ".py",
   "mimetype": "text/x-python",
   "name": "python",
   "nbconvert_exporter": "python",
   "pygments_lexer": "ipython3",
   "version": "3.5.0"
  }
 },
 "nbformat": 4,
 "nbformat_minor": 0
}
