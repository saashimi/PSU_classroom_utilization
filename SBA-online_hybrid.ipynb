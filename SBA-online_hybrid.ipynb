{
 "cells": [
  {
   "cell_type": "code",
   "execution_count": 18,
   "metadata": {
    "collapsed": true
   },
   "outputs": [],
   "source": [
    "import os\n",
    "import pandas as pd\n",
    "import re\n",
    "import numpy as np\n",
    "import datetime\n",
    "\n",
    "def main():\n",
    "    \"\"\"\n",
    "    Main program control flow.\n",
    "    \"\"\"\n",
    "    pd.set_option('display.max_columns', None)\n",
    "    pd.set_option('display.max_rows', None)\n",
    "    df = pd.read_csv('enrollment_data/CLE-SBA-201604.csv')\n",
    "    df = df.fillna('')\n",
    "    instruct_method = ['Fully Online', 'Hybrid']\n",
    "    df = df[df['Instruct_Method_Desc_1'].isin(instruct_method)]\n",
    "\n",
    "    print(df[['Subj', 'Course', 'Crosslist_ID', 'Actual_Enrl', 'Instruct_Method_Desc_1']])"
   ]
  },
  {
   "cell_type": "code",
   "execution_count": 19,
   "metadata": {
    "collapsed": false
   },
   "outputs": [
    {
     "name": "stdout",
     "output_type": "stream",
     "text": [
      "     Subj Course Crosslist_ID  Actual_Enrl Instruct_Method_Desc_1\n",
      "0    ACTG    281                        20           Fully Online\n",
      "1    ACTG    281                        29           Fully Online\n",
      "30   ACTG    404                         1           Fully Online\n",
      "31   ACTG    404                         2           Fully Online\n",
      "32   ACTG    404                         0           Fully Online\n",
      "34   ACTG    421                        39           Fully Online\n",
      "35   ACTG    421                        24           Fully Online\n",
      "70     BA    101                        50           Fully Online\n",
      "71     BA    101                        48           Fully Online\n",
      "75     BA    205                        45                 Hybrid\n",
      "76     BA    205                        47                 Hybrid\n",
      "97     BA    301           DK           26           Fully Online\n",
      "98     BA    301           DK           15           Fully Online\n",
      "99     BA    301                        43           Fully Online\n",
      "108    BA    302           DZ           26           Fully Online\n",
      "109    BA    302           DZ           16           Fully Online\n",
      "110    BA    302                        46           Fully Online\n",
      "119    BA    303           EA           30           Fully Online\n",
      "120    BA    303           EA            8           Fully Online\n",
      "126    BA    311           EF           30           Fully Online\n",
      "128    BA    311           EF            7           Fully Online\n",
      "129    BA    311                        41                 Hybrid\n",
      "130    BA    311                        43                 Hybrid\n",
      "132    BA    325           EH           39           Fully Online\n",
      "133    BA    325           EH           31           Fully Online\n",
      "134    BA    325                        44                 Hybrid\n",
      "135    BA    325                        41                 Hybrid\n",
      "136    BA    325                        47                 Hybrid\n",
      "137    BA    325                        49                 Hybrid\n",
      "138    BA    325                        50                 Hybrid\n",
      "141    BA    339                       150                 Hybrid\n",
      "142    BA   339L                        46                 Hybrid\n",
      "143    BA   339L                        25                 Hybrid\n",
      "144    BA   339L                        31                 Hybrid\n",
      "145    BA   339L                        30                 Hybrid\n",
      "146    BA   339L                        19                 Hybrid\n",
      "171    BA    529                        80                 Hybrid\n",
      "175   FIN    218                        56                 Hybrid\n",
      "176   FIN    218                        52           Fully Online\n",
      "177   FIN    218                        53           Fully Online\n",
      "182   FIN    404                         0           Fully Online\n",
      "183   FIN    404                         0           Fully Online\n",
      "184   FIN    404                         1           Fully Online\n",
      "198  GSCM    511                        50           Fully Online\n",
      "199  GSCM    512                        39           Fully Online\n",
      "200  GSCM    514                        26           Fully Online\n",
      "201  GSCM    521                        33           Fully Online\n",
      "205  ISQA    404                         0           Fully Online\n",
      "206  ISQA    404                         0           Fully Online\n",
      "207  ISQA    404                         1           Fully Online\n",
      "209  ISQA    407                        27           Fully Online\n",
      "213  ISQA    429           AP           29           Fully Online\n",
      "214  ISQA    429           AP           14           Fully Online\n",
      "215  ISQA    432           AU           17           Fully Online\n",
      "218  ISQA    450           AW           25           Fully Online\n",
      "219  ISQA    450           AW           13           Fully Online\n",
      "223  ISQA    513                        31           Fully Online\n",
      "224  ISQA    514                        12           Fully Online\n",
      "225  ISQA    515                        17           Fully Online\n",
      "226  ISQA   532S           AU            0           Fully Online\n",
      "231  MGMT    351           CM           25           Fully Online\n",
      "232  MGMT    351           CM           17           Fully Online\n",
      "233  MGMT    351                        38                 Hybrid\n",
      "234  MGMT    351                        21                 Hybrid\n",
      "236  MGMT    404                         0           Fully Online\n",
      "237  MGMT    404                         0           Fully Online\n",
      "238  MGMT    404                         9           Fully Online\n",
      "240  MGMT    409                         0           Fully Online\n",
      "241  MGMT    409                         3           Fully Online\n",
      "242  MGMT    409                         6           Fully Online\n",
      "244  MGMT    423           NP           26           Fully Online\n",
      "247  MGMT    428           DI           30           Fully Online\n",
      "248  MGMT    428           DI            9           Fully Online\n",
      "251  MGMT    445           ER           15           Fully Online\n",
      "252  MGMT    445           ER           23           Fully Online\n",
      "258  MGMT    464           ES           27           Fully Online\n",
      "259  MGMT    464           ES           15           Fully Online\n",
      "260  MGMT    471                        46                 Hybrid\n",
      "261  MGMT    471                        30                 Hybrid\n",
      "272  MGMT   523S           NP            9           Fully Online\n",
      "321    RE    439           EW            2                 Hybrid\n",
      "325    RE   539S           EW           13                 Hybrid\n"
     ]
    }
   ],
   "source": [
    "main()"
   ]
  }
 ],
 "metadata": {
  "kernelspec": {
   "display_name": "Python 3",
   "language": "python",
   "name": "python3"
  },
  "language_info": {
   "codemirror_mode": {
    "name": "ipython",
    "version": 3
   },
   "file_extension": ".py",
   "mimetype": "text/x-python",
   "name": "python",
   "nbconvert_exporter": "python",
   "pygments_lexer": "ipython3",
   "version": "3.5.2"
  }
 },
 "nbformat": 4,
 "nbformat_minor": 2
}
