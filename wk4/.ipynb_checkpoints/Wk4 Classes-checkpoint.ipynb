{
 "cells": [
  {
   "cell_type": "code",
   "execution_count": 81,
   "metadata": {
    "collapsed": false
   },
   "outputs": [],
   "source": [
    "class MyTime:\n",
    "    \"\"\"\n",
    "    \"\"\"\n",
    "\n",
    "    def __init__(self, hrs=0, mins=0, secs=0):\n",
    "        \"\"\" Create a new MyTime object initialized to hrs, mins, secs.\n",
    "           The values of mins and secs may be outside the range 0-59,\n",
    "           but the resulting MyTime object will be normalized.\n",
    "        \"\"\"\n",
    "\n",
    "        # Calculate total seconds to represent\n",
    "        totalsecs = abs(hrs*3600 + mins*60 + secs)\n",
    "        self.hours = abs(totalsecs // 3600)   # Split in h, m, s\n",
    "        leftoversecs = abs(totalsecs % 3600)\n",
    "        self.minutes = abs(leftoversecs // 60)\n",
    "        self.seconds = abs(leftoversecs % 60)\n",
    "\n",
    "    def __str__(self):\n",
    "        return \"{h}:{m}:{s}\".format(h=self.hours, m=self.minutes, s=self.seconds)\n",
    "\n",
    "    def __add__(self, other):\n",
    "        return MyTime(0, 0, self.to_seconds() + other.to_seconds())\n",
    "    \n",
    "    def __sub__(self, other):\n",
    "        return MyTime(0, 0, self.to_seconds() - other.to_seconds())\n",
    "    \n",
    "    def __iadd__(self, other):\n",
    "        return self.to_seconds() + other.to_seconds()\n",
    "    \n",
    "    def __le__(self, other):\n",
    "        return self.to_seconds() <= other.to_seconds()\n",
    "\n",
    "    def __lt__(self, other):\n",
    "        return self.to_seconds() < other.to_seconds()\n",
    "    \n",
    "    def \n",
    "\n",
    "    def to_seconds(self):\n",
    "        \"\"\" Return the number of seconds represented\n",
    "            by this instance\n",
    "        \"\"\"\n",
    "        return self.hours * 3600 + self.minutes * 60 + self.seconds\n",
    "    \n",
    "    \n",
    "    \"\"\"def after(self, t1, t2):\n",
    "        if t1 <= self < t2:\n",
    "            print(\"True\")\n",
    "            return True\n",
    "        else:\n",
    "            print(\"False\")\n",
    "            return False\n",
    "    \"\"\"\n",
    "\n",
    "t1 = MyTime(1, 0, 0)\n",
    "t2 = MyTime(43, 0, 0)\n",
    "time = MyTime(2, 30, 0)\n",
    "\n",
    "\n"
   ]
  },
  {
   "cell_type": "code",
   "execution_count": 82,
   "metadata": {
    "collapsed": false
   },
   "outputs": [
    {
     "name": "stdout",
     "output_type": "stream",
     "text": [
      "4:0:0\n"
     ]
    }
   ],
   "source": [
    "t4 = MyTime(0, 0, 10)\n",
    "\n",
    "print(t1 + t2)"
   ]
  },
  {
   "cell_type": "code",
   "execution_count": null,
   "metadata": {
    "collapsed": true
   },
   "outputs": [],
   "source": []
  },
  {
   "cell_type": "code",
   "execution_count": 34,
   "metadata": {
    "collapsed": false
   },
   "outputs": [
    {
     "name": "stdout",
     "output_type": "stream",
     "text": [
      "pos is 0\n",
      "check_item is 2\n",
      "comparing 2 against 2\n",
      "comparing 9 against 9\n",
      "I ran into a list.\n"
     ]
    },
    {
     "ename": "IndexError",
     "evalue": "list index out of range",
     "output_type": "error",
     "traceback": [
      "\u001b[1;31m---------------------------------------------------------------------------\u001b[0m",
      "\u001b[1;31mIndexError\u001b[0m                                Traceback (most recent call last)",
      "\u001b[1;32m<ipython-input-34-bd0e05935a1a>\u001b[0m in \u001b[0;36m<module>\u001b[1;34m()\u001b[0m\n\u001b[0;32m     31\u001b[0m \u001b[1;31m#assert test(recursive_min([[[-13, 7], 90], 2, [1, 100], 8, 6]) == -13)\u001b[0m\u001b[1;33m\u001b[0m\u001b[1;33m\u001b[0m\u001b[0m\n\u001b[0;32m     32\u001b[0m \u001b[1;33m\u001b[0m\u001b[0m\n\u001b[1;32m---> 33\u001b[1;33m \u001b[0mrecursive_min\u001b[0m\u001b[1;33m(\u001b[0m\u001b[1;33m[\u001b[0m\u001b[1;36m2\u001b[0m\u001b[1;33m,\u001b[0m \u001b[1;36m9\u001b[0m\u001b[1;33m,\u001b[0m \u001b[1;33m[\u001b[0m\u001b[1;36m1\u001b[0m\u001b[1;33m,\u001b[0m \u001b[1;36m13\u001b[0m\u001b[1;33m]\u001b[0m\u001b[1;33m,\u001b[0m \u001b[1;36m8\u001b[0m\u001b[1;33m,\u001b[0m \u001b[1;36m6\u001b[0m\u001b[1;33m]\u001b[0m\u001b[1;33m,\u001b[0m \u001b[1;36m0\u001b[0m\u001b[1;33m)\u001b[0m\u001b[1;33m\u001b[0m\u001b[0m\n\u001b[0m",
      "\u001b[1;32m<ipython-input-34-bd0e05935a1a>\u001b[0m in \u001b[0;36mrecursive_min\u001b[1;34m(list_, pos)\u001b[0m\n\u001b[0;32m      7\u001b[0m     \u001b[0mprint\u001b[0m\u001b[1;33m(\u001b[0m\u001b[1;34m\"check_item is\"\u001b[0m\u001b[1;33m,\u001b[0m \u001b[0mcheck_item\u001b[0m\u001b[1;33m)\u001b[0m\u001b[1;33m\u001b[0m\u001b[0m\n\u001b[0;32m      8\u001b[0m     \u001b[1;32mfor\u001b[0m \u001b[0mindex\u001b[0m \u001b[1;32min\u001b[0m \u001b[0mrange\u001b[0m\u001b[1;33m(\u001b[0m\u001b[0mlen\u001b[0m\u001b[1;33m(\u001b[0m\u001b[0mlist_\u001b[0m\u001b[1;33m)\u001b[0m \u001b[1;33m+\u001b[0m \u001b[1;36m1\u001b[0m\u001b[1;33m)\u001b[0m\u001b[1;33m:\u001b[0m\u001b[1;33m\u001b[0m\u001b[0m\n\u001b[1;32m----> 9\u001b[1;33m         \u001b[1;32mif\u001b[0m \u001b[0mtype\u001b[0m\u001b[1;33m(\u001b[0m\u001b[0mlist_\u001b[0m\u001b[1;33m[\u001b[0m\u001b[0mindex\u001b[0m\u001b[1;33m]\u001b[0m\u001b[1;33m)\u001b[0m \u001b[1;33m==\u001b[0m \u001b[0mint\u001b[0m\u001b[1;33m:\u001b[0m\u001b[1;33m\u001b[0m\u001b[0m\n\u001b[0m\u001b[0;32m     10\u001b[0m             \u001b[1;32mif\u001b[0m \u001b[0mcheck_item\u001b[0m \u001b[1;33m<=\u001b[0m \u001b[0mlist_\u001b[0m\u001b[1;33m[\u001b[0m\u001b[0mindex\u001b[0m\u001b[1;33m]\u001b[0m\u001b[1;33m:\u001b[0m\u001b[1;33m\u001b[0m\u001b[0m\n\u001b[0;32m     11\u001b[0m                 \u001b[0mcheck_item\u001b[0m \u001b[1;33m=\u001b[0m \u001b[0mlist_\u001b[0m\u001b[1;33m[\u001b[0m\u001b[0mindex\u001b[0m\u001b[1;33m]\u001b[0m\u001b[1;33m\u001b[0m\u001b[0m\n",
      "\u001b[1;31mIndexError\u001b[0m: list index out of range"
     ]
    }
   ],
   "source": [
    "#def test(function):\n",
    "\n",
    "def recursive_min(list_, pos):\n",
    "    lowest_value = []\n",
    "    print(\"pos is\", pos)\n",
    "    check_item = list_[pos]\n",
    "    print(\"check_item is\", check_item)\n",
    "    for index in range(len(list_) + 1):\n",
    "        if type(list_[index]) == int:\n",
    "            if check_item <= list_[index]:\n",
    "                check_item = list_[index]\n",
    "                print(\"comparing\", check_item, \"against\", list_[index])\n",
    "                pos += 1\n",
    "                continue\n",
    "        if type(list_[index]) == list:\n",
    "            print(\"I ran into a list.\")\n",
    "            for item in list_[index]:\n",
    "                if check_item <= item:\n",
    "                    check_item = item\n",
    "                    continue\n",
    "    return check_item\n",
    "                \n",
    "    \n",
    "                    \n",
    "\n",
    "\n",
    "\n",
    "#assert test(recursive_min([2, 9, [1, 13], 8, 6]) == 1)\n",
    "#assert test(recursive_min([2, [[100, 1], 90], [10, 13], 8, 6]) == 1)\n",
    "#assert test(recursive_min([2, [[13, -7], 90], [1, 100], 8, 6]) == -7)\n",
    "#assert test(recursive_min([[[-13, 7], 90], 2, [1, 100], 8, 6]) == -13)\n",
    "\n",
    "recursive_min([2, 9, [1, 13], 8, 6], 0)"
   ]
  },
  {
   "cell_type": "code",
   "execution_count": 52,
   "metadata": {
    "collapsed": false
   },
   "outputs": [
    {
     "name": "stdout",
     "output_type": "stream",
     "text": [
      "checking the full list!\n"
     ]
    },
    {
     "ename": "ValueError",
     "evalue": "min() arg is an empty sequence",
     "output_type": "error",
     "traceback": [
      "\u001b[1;31m---------------------------------------------------------------------------\u001b[0m",
      "\u001b[1;31mValueError\u001b[0m                                Traceback (most recent call last)",
      "\u001b[1;32m<ipython-input-52-6294a371bf1e>\u001b[0m in \u001b[0;36m<module>\u001b[1;34m()\u001b[0m\n\u001b[0;32m     37\u001b[0m \u001b[1;31m#assert test(recursive_min([[[-13, 7], 90], 2, [1, 100], 8, 6]) == -13)\u001b[0m\u001b[1;33m\u001b[0m\u001b[1;33m\u001b[0m\u001b[0m\n\u001b[0;32m     38\u001b[0m \u001b[1;33m\u001b[0m\u001b[0m\n\u001b[1;32m---> 39\u001b[1;33m \u001b[0mrecursive_min\u001b[0m\u001b[1;33m(\u001b[0m\u001b[1;33m[\u001b[0m\u001b[1;36m2\u001b[0m\u001b[1;33m,\u001b[0m \u001b[1;36m9\u001b[0m\u001b[1;33m,\u001b[0m \u001b[1;33m[\u001b[0m\u001b[1;36m1\u001b[0m\u001b[1;33m,\u001b[0m \u001b[1;36m13\u001b[0m\u001b[1;33m]\u001b[0m\u001b[1;33m,\u001b[0m \u001b[1;36m8\u001b[0m\u001b[1;33m,\u001b[0m \u001b[1;36m6\u001b[0m\u001b[1;33m]\u001b[0m\u001b[1;33m)\u001b[0m\u001b[1;33m\u001b[0m\u001b[0m\n\u001b[0m",
      "\u001b[1;32m<ipython-input-52-6294a371bf1e>\u001b[0m in \u001b[0;36mrecursive_min\u001b[1;34m(list_)\u001b[0m\n\u001b[0;32m     13\u001b[0m \u001b[1;33m\u001b[0m\u001b[0m\n\u001b[0;32m     14\u001b[0m     \u001b[0mprint\u001b[0m\u001b[1;33m(\u001b[0m\u001b[1;34m\"checking the full list!\"\u001b[0m\u001b[1;33m)\u001b[0m\u001b[1;33m\u001b[0m\u001b[0m\n\u001b[1;32m---> 15\u001b[1;33m     \u001b[1;32mreturn\u001b[0m \u001b[0mmin\u001b[0m\u001b[1;33m(\u001b[0m\u001b[0mlist_\u001b[0m\u001b[1;33m)\u001b[0m\u001b[1;33m\u001b[0m\u001b[0m\n\u001b[0m\u001b[0;32m     16\u001b[0m \u001b[1;33m\u001b[0m\u001b[0m\n\u001b[0;32m     17\u001b[0m \u001b[1;33m\u001b[0m\u001b[0m\n",
      "\u001b[1;31mValueError\u001b[0m: min() arg is an empty sequence"
     ]
    }
   ],
   "source": [
    "#def test(function):\n",
    "\n",
    "def recursive_min(list_):\n",
    "    for item in list_:\n",
    "        if item != int:\n",
    "            list_ = []\n",
    "            for item in list_:\n",
    "                if type(item) == list:\n",
    "                    for subitem in item:\n",
    "                        full_lst.append(subitem)\n",
    "                else:\n",
    "                    full_lst.append(item)\n",
    "        \n",
    "    print(\"checking the full list!\")\n",
    "    return min(list_)\n",
    "                \n",
    "\n",
    "    \"\"\"\n",
    "    else:\n",
    "        for item in list_:\n",
    "            if pos <= item:\n",
    "                return item\n",
    "            else:\n",
    "                recursive_min(list_, item)\n",
    "    \"\"\"\n",
    "            \n",
    "    \n",
    "        \n",
    "    \n",
    "                    \n",
    "\n",
    "\n",
    "\n",
    "#assert recursive_min([2, 9, [1, 13], 8, 6]) == 1)\n",
    "#assert recursive_min([2, [[100, 1], 90], [10, 13], 8, 6]) == 1)\n",
    "#assert test(recursive_min([2, [[13, -7], 90], [1, 100], 8, 6]) == -7)\n",
    "#assert test(recursive_min([[[-13, 7], 90], 2, [1, 100], 8, 6]) == -13)\n",
    "\n",
    "recursive_min([2, 9, [1, 13], 8, 6])"
   ]
  },
  {
   "cell_type": "code",
   "execution_count": 63,
   "metadata": {
    "collapsed": false
   },
   "outputs": [
    {
     "ename": "IndentationError",
     "evalue": "unexpected indent (<ipython-input-63-995066c693a9>, line 18)",
     "output_type": "error",
     "traceback": [
      "\u001b[1;36m  File \u001b[1;32m\"<ipython-input-63-995066c693a9>\"\u001b[1;36m, line \u001b[1;32m18\u001b[0m\n\u001b[1;33m    return(\"Passed!\")\u001b[0m\n\u001b[1;37m    ^\u001b[0m\n\u001b[1;31mIndentationError\u001b[0m\u001b[1;31m:\u001b[0m unexpected indent\n"
     ]
    }
   ],
   "source": [
    "#Thunder's solution\n",
    "\n",
    "def flatten(lst):\n",
    "    res = []\n",
    "    for elem in lst:\n",
    "        if type(elem) == type([]):\n",
    "            res += flatten(elem)\n",
    "        else:\n",
    "            res.append(elem)\n",
    "    return res\n",
    "\n",
    "assert flatten([2,9,[2,1,13,2],8,[2,6]]) == [2,9,2,1,13,2,8,2,6]\n",
    "assert flatten([[9,[7,1,13,2],8],[7,6]]) == [9,7,1,13,2,8,7,6]\n",
    "assert flatten([[9,[7,1,13,2],8],[2,6]]) == [9,7,1,13,2,8,2,6]\n",
    "assert flatten([[\"this\",[\"a\",[\"thing\"],\"a\"],\"is\"],[\"a\",\"easy\"]]) ==  [\"this\",\"a\",\"thing\",\"a\",\"is\",\"a\",\"easy\"]\n",
    "assert flatten([]) == []\n",
    "\n",
    "print(\"Passed!\")\n",
    "\n",
    "            "
   ]
  }
 ],
 "metadata": {
  "kernelspec": {
   "display_name": "Python 3",
   "language": "python",
   "name": "python3"
  },
  "language_info": {
   "codemirror_mode": {
    "name": "ipython",
    "version": 3
   },
   "file_extension": ".py",
   "mimetype": "text/x-python",
   "name": "python",
   "nbconvert_exporter": "python",
   "pygments_lexer": "ipython3",
   "version": "3.4.3"
  }
 },
 "nbformat": 4,
 "nbformat_minor": 0
}
