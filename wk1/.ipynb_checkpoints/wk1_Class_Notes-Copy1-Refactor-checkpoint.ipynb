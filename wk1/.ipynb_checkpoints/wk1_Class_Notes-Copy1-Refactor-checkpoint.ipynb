{
 "cells": [
  {
   "cell_type": "code",
   "execution_count": 12,
   "metadata": {
    "collapsed": false
   },
   "outputs": [
    {
     "data": {
      "text/plain": [
       "2"
      ]
     },
     "execution_count": 12,
     "metadata": {},
     "output_type": "execute_result"
    }
   ],
   "source": [
    "# tuple packing\n",
    "temp = 1, 2\n",
    "a, b = temp\n",
    "# unpacking\n",
    "a\n",
    "b"
   ]
  },
  {
   "cell_type": "code",
   "execution_count": 8,
   "metadata": {
    "collapsed": false
   },
   "outputs": [
    {
     "name": "stdout",
     "output_type": "stream",
     "text": [
      "(0, 'a')\n",
      "(1, 'b')\n",
      "(2, 'c')\n"
     ]
    }
   ],
   "source": [
    "lst = [\"a\", \"b\", \"c\"]\n",
    "# Enumerate makes tuples of the index\n",
    "for elem in enumerate(lst):\n",
    "    print(elem)"
   ]
  },
  {
   "cell_type": "code",
   "execution_count": 9,
   "metadata": {
    "collapsed": false
   },
   "outputs": [
    {
     "data": {
      "text/plain": [
       "43"
      ]
     },
     "execution_count": 9,
     "metadata": {},
     "output_type": "execute_result"
    }
   ],
   "source": [
    "# packing and unpacking Pythonically\n",
    "tup = ('Name', 43)\n",
    "name, age = tup\n",
    "age #outputs just the age"
   ]
  },
  {
   "cell_type": "code",
   "execution_count": 25,
   "metadata": {
    "collapsed": false,
    "scrolled": true
   },
   "outputs": [
    {
     "name": "stdout",
     "output_type": "stream",
     "text": [
      "['but', 'soft', 'what', 'light', 'in', 'yonder', 'window', 'breaks']\n",
      "['yonder', 'window', 'breaks', 'light', 'what', 'soft', 'but', 'in']\n"
     ]
    }
   ],
   "source": [
    "txt = 'but soft what light in yonder window breaks'\n",
    "words = txt.split()\n",
    "print(words)\n",
    "\n",
    "t = list()\n",
    "for word in words:\n",
    "   t.append((len(word), word)) # pack the tuple (decorate)\n",
    "\n",
    "t.sort(reverse=True) # sort the tuple (sort)\n",
    "\n",
    "res = list()    # print out the result (undecorate)\n",
    "for length, word in t:\n",
    "    res.append(word)\n",
    "\n",
    "print(res)\n",
    "\n"
   ]
  },
  {
   "cell_type": "code",
   "execution_count": 77,
   "metadata": {
    "collapsed": false
   },
   "outputs": [
    {
     "name": "stdout",
     "output_type": "stream",
     "text": [
      "Please enter three values: 1, 2\n"
     ]
    },
    {
     "ename": "ValueError",
     "evalue": "need more than 2 values to unpack",
     "output_type": "error",
     "traceback": [
      "\u001b[1;31m---------------------------------------------------------------------------\u001b[0m",
      "\u001b[1;31mValueError\u001b[0m                                Traceback (most recent call last)",
      "\u001b[1;32m<ipython-input-77-01fcbdb94874>\u001b[0m in \u001b[0;36m<module>\u001b[1;34m()\u001b[0m\n\u001b[0;32m     14\u001b[0m \u001b[1;33m\u001b[0m\u001b[0m\n\u001b[0;32m     15\u001b[0m \u001b[1;33m\u001b[0m\u001b[0m\n\u001b[1;32m---> 16\u001b[1;33m \u001b[0mthree_max\u001b[0m\u001b[1;33m(\u001b[0m\u001b[1;33m)\u001b[0m\u001b[1;33m\u001b[0m\u001b[0m\n\u001b[0m\u001b[0;32m     17\u001b[0m \u001b[0mtest_max\u001b[0m\u001b[1;33m(\u001b[0m\u001b[0mlst\u001b[0m\u001b[1;33m)\u001b[0m\u001b[1;33m\u001b[0m\u001b[0m\n",
      "\u001b[1;32m<ipython-input-77-01fcbdb94874>\u001b[0m in \u001b[0;36mthree_max\u001b[1;34m()\u001b[0m\n\u001b[0;32m      1\u001b[0m \u001b[1;32mdef\u001b[0m \u001b[0mthree_max\u001b[0m\u001b[1;33m(\u001b[0m\u001b[1;33m)\u001b[0m\u001b[1;33m:\u001b[0m\u001b[1;33m\u001b[0m\u001b[0m\n\u001b[1;32m----> 2\u001b[1;33m     \u001b[0mx1\u001b[0m\u001b[1;33m,\u001b[0m \u001b[0mx2\u001b[0m\u001b[1;33m,\u001b[0m \u001b[0mx3\u001b[0m \u001b[1;33m=\u001b[0m \u001b[0meval\u001b[0m\u001b[1;33m(\u001b[0m\u001b[0minput\u001b[0m\u001b[1;33m(\u001b[0m\u001b[1;34m\"Please enter three values: \"\u001b[0m\u001b[1;33m)\u001b[0m\u001b[1;33m)\u001b[0m\u001b[1;33m\u001b[0m\u001b[0m\n\u001b[0m\u001b[0;32m      3\u001b[0m     \u001b[0mlst\u001b[0m \u001b[1;33m=\u001b[0m \u001b[1;33m[\u001b[0m\u001b[0mx1\u001b[0m\u001b[1;33m,\u001b[0m \u001b[0mx2\u001b[0m\u001b[1;33m,\u001b[0m \u001b[0mx3\u001b[0m\u001b[1;33m]\u001b[0m\u001b[1;33m\u001b[0m\u001b[0m\n\u001b[0;32m      4\u001b[0m     \u001b[0mprint\u001b[0m\u001b[1;33m(\u001b[0m\u001b[0mlst\u001b[0m\u001b[1;33m)\u001b[0m\u001b[1;33m\u001b[0m\u001b[0m\n\u001b[0;32m      5\u001b[0m \u001b[1;33m\u001b[0m\u001b[0m\n",
      "\u001b[1;31mValueError\u001b[0m: need more than 2 values to unpack"
     ]
    }
   ],
   "source": [
    "##KS Attempt\n",
    "\n",
    "def three_max():\n",
    "    #print(\"The largest value is\", maximum)\n",
    "\n",
    "def test_max(lst):\n",
    "    assert len(lst) == 3 \n",
    "    assert type(lst) == list\n",
    "    assert lst[0] != lst[1] and lst[0] != lst[2]\n",
    "    assert lst[0] > lst[1]\n",
    "    print(\"Success: Passed\")\n",
    "\n",
    "\n",
    "three_max()\n",
    "test_max(lst)"
   ]
  },
  {
   "cell_type": "code",
   "execution_count": 127,
   "metadata": {
    "collapsed": false
   },
   "outputs": [],
   "source": [
    "### In-class assert test\n",
    "def n_max():\n",
    "    inpt = eval(input(\"Please enter some values: \"))\n",
    "    lst = list(inpt)\n",
    "    \n",
    "    #maximum = max_val(inpt)\n",
    "    max = lst[0]\n",
    "    for x in lst:\n",
    "        if x > lst[0]:\n",
    "            max = x\n",
    "        return max\n",
    "    \n",
    "    print(\"The largest value is\", max)\n",
    "    \n",
    "    \n",
    "### Writing the assert tests:\n",
    "def max_val(lst):\n",
    "    \"\"\"Input: three integers\n",
    "    Returns: maximum\n",
    "    int is the max integer.\"\"\"\n",
    "    return max(lst)\n",
    "\n",
    "assert max_val([1, 2, 3]) == 3\n",
    "assert max_val([1, 1, 1]) == 1\n",
    "assert max_val([1, 2, 2]) == 2\n",
    "    \n"
   ]
  },
  {
   "cell_type": "code",
   "execution_count": 128,
   "metadata": {
    "collapsed": false
   },
   "outputs": [
    {
     "name": "stdout",
     "output_type": "stream",
     "text": [
      "Please enter some values: 1, 2, 3, 4, 5\n"
     ]
    },
    {
     "ename": "TypeError",
     "evalue": "'int' object is not iterable",
     "output_type": "error",
     "traceback": [
      "\u001b[1;31m---------------------------------------------------------------------------\u001b[0m",
      "\u001b[1;31mTypeError\u001b[0m                                 Traceback (most recent call last)",
      "\u001b[1;32m<ipython-input-128-b8cc821d56a2>\u001b[0m in \u001b[0;36m<module>\u001b[1;34m()\u001b[0m\n\u001b[1;32m----> 1\u001b[1;33m \u001b[0mn_max\u001b[0m\u001b[1;33m(\u001b[0m\u001b[1;33m)\u001b[0m\u001b[1;33m\u001b[0m\u001b[0m\n\u001b[0m",
      "\u001b[1;32m<ipython-input-127-deda725cd389>\u001b[0m in \u001b[0;36mn_max\u001b[1;34m()\u001b[0m\n\u001b[0;32m      6\u001b[0m     \u001b[1;31m#maximum = max_val(inpt)\u001b[0m\u001b[1;33m\u001b[0m\u001b[1;33m\u001b[0m\u001b[0m\n\u001b[0;32m      7\u001b[0m     \u001b[0mlength\u001b[0m \u001b[1;33m=\u001b[0m \u001b[0mlen\u001b[0m\u001b[1;33m(\u001b[0m\u001b[0mlst\u001b[0m\u001b[1;33m)\u001b[0m\u001b[1;33m\u001b[0m\u001b[0m\n\u001b[1;32m----> 8\u001b[1;33m     \u001b[1;32mfor\u001b[0m \u001b[0mx\u001b[0m \u001b[1;32min\u001b[0m \u001b[0mlength\u001b[0m\u001b[1;33m:\u001b[0m\u001b[1;33m\u001b[0m\u001b[0m\n\u001b[0m\u001b[0;32m      9\u001b[0m         \u001b[1;32mif\u001b[0m \u001b[0mx\u001b[0m \u001b[1;33m>\u001b[0m \u001b[0mlst\u001b[0m\u001b[1;33m[\u001b[0m\u001b[1;36m0\u001b[0m\u001b[1;33m]\u001b[0m\u001b[1;33m:\u001b[0m\u001b[1;33m\u001b[0m\u001b[0m\n\u001b[0;32m     10\u001b[0m             \u001b[0mmax\u001b[0m \u001b[1;33m=\u001b[0m \u001b[0mx\u001b[0m\u001b[1;33m\u001b[0m\u001b[0m\n",
      "\u001b[1;31mTypeError\u001b[0m: 'int' object is not iterable"
     ]
    }
   ],
   "source": [
    "n_max()"
   ]
  },
  {
   "cell_type": "markdown",
   "metadata": {},
   "source": [
    "## This is \"cheating\" using the Counter function:"
   ]
  },
  {
   "cell_type": "code",
   "execution_count": null,
   "metadata": {
    "collapsed": false
   },
   "outputs": [],
   "source": [
    "filename = input(\"input filename \")\n",
    "file = open(filename, 'r')\n",
    "from collections import Counter\n",
    "\n",
    "addr_lst = []\n",
    "for line in file:\n",
    "    if \"From\" in line: \n",
    "        a = line.split()\n",
    "        \n",
    "        if len(a) > 2:\n",
    "            a = line.split()\n",
    "            addr_lst.append(a[1])\n",
    "                 \n",
    "        counted_lst = []\n",
    "        c = Counter(addr_lst)\n",
    "                  \n",
    "print(c)\n",
    "            \n",
    "        \n",
    "\n",
    "        \n",
    "            \n",
    "\n",
    "        \n"
   ]
  },
  {
   "cell_type": "markdown",
   "metadata": {},
   "source": [
    "## This is the \"real\" code using tuples:"
   ]
  },
  {
   "cell_type": "code",
   "execution_count": 19,
   "metadata": {
    "collapsed": false
   },
   "outputs": [
    {
     "name": "stdout",
     "output_type": "stream",
     "text": [
      "input filename mbox.txt\n",
      "(195, 'zqian@umich.edu')\n"
     ]
    },
    {
     "ename": "AssertionError",
     "evalue": "",
     "output_type": "error",
     "traceback": [
      "\u001b[1;31m---------------------------------------------------------------------------\u001b[0m",
      "\u001b[1;31mAssertionError\u001b[0m                            Traceback (most recent call last)",
      "\u001b[1;32m<ipython-input-19-5694b529b7db>\u001b[0m in \u001b[0;36m<module>\u001b[1;34m()\u001b[0m\n\u001b[0;32m     32\u001b[0m \u001b[1;33m\u001b[0m\u001b[0m\n\u001b[0;32m     33\u001b[0m \u001b[1;34m\"\"\"Unit Tests\"\"\"\u001b[0m\u001b[1;33m\u001b[0m\u001b[0m\n\u001b[1;32m---> 34\u001b[1;33m \u001b[1;32massert\u001b[0m \u001b[0mcommit_address\u001b[0m\u001b[1;33m(\u001b[0m\u001b[1;33m)\u001b[0m \u001b[1;33m==\u001b[0m \u001b[1;33m(\u001b[0m\u001b[1;36m100\u001b[0m\u001b[1;33m,\u001b[0m \u001b[1;34m'email@email.net'\u001b[0m\u001b[1;33m)\u001b[0m\u001b[1;33m\u001b[0m\u001b[0m\n\u001b[0m\u001b[0;32m     35\u001b[0m \u001b[0mprint\u001b[0m\u001b[1;33m(\u001b[0m\u001b[1;34m'Passed unit test.'\u001b[0m\u001b[1;33m)\u001b[0m\u001b[1;33m\u001b[0m\u001b[0m\n\u001b[0;32m     36\u001b[0m \u001b[1;33m\u001b[0m\u001b[0m\n",
      "\u001b[1;31mAssertionError\u001b[0m: "
     ]
    }
   ],
   "source": [
    "\"\"\"commit_address() prompts the user for a text file to scan.  \\n\n",
    "The program then scans the file for lines containing the world \\n\n",
    "the word \\'From' and splits the line into a list. As we are only \\n\n",
    "concerned with lists containing more than two items, the program will \\n\n",
    "discard lines shorter than this, as they do not contain valid email \\n\n",
    "addresses.  \\n\\n\n",
    "\n",
    "The program will then sort the email addresses and return the one with \\n\n",
    "the most number of commits, along with the total number of commits.\"\"\"\n",
    "\n",
    "def commit_address():\n",
    "    filename = input(\"input filename \")\n",
    "    file = open(filename, 'r')\n",
    "\n",
    "    add_lst = []\n",
    "    for line in file:\n",
    "        if \"From\" in line:\n",
    "            if len(line.split()) > 2:\n",
    "                a = line.split()\n",
    "                add_lst.append(a[1])\n",
    "    \n",
    "    num_lst = []\n",
    "    for item in range(len(add_lst)):\n",
    "        email = add_lst[item]\n",
    "        commit = add_lst.count(add_lst[item])\n",
    "        num = commit, email\n",
    "        num_lst.append(num)\n",
    "    num_lst.sort(reverse=True)\n",
    "\n",
    "    print(num_lst[0])\n",
    "    file.close()\n",
    "\n",
    "\"\"\"Unit Tests\"\"\"()\n",
    "assert commit_address() == (100, 'email@email.net')\n",
    "print('Passed unit test.')    \n",
    "    \n",
    "commit_address\n"
   ]
  },
  {
   "cell_type": "code",
   "execution_count": 20,
   "metadata": {
    "collapsed": false
   },
   "outputs": [
    {
     "name": "stdout",
     "output_type": "stream",
     "text": [
      "input filename mbox.txt\n",
      "(198, '10')\n",
      "(181, '16')\n",
      "(166, '09')\n",
      "(154, '11')\n",
      "(152, '15')\n",
      "(150, '14')\n",
      "(114, '13')\n",
      "(108, '12')\n",
      "(97, '17')\n",
      "(72, '08')\n",
      "(58, '18')\n",
      "(46, '19')\n",
      "(45, '06')\n",
      "(42, '07')\n",
      "(36, '21')\n",
      "(36, '20')\n",
      "(28, '22')\n",
      "(23, '04')\n",
      "(23, '00')\n",
      "(19, '03')\n",
      "(18, '23')\n",
      "(11, '02')\n",
      "(10, '05')\n",
      "(10, '01')\n",
      "(1, 'th')\n"
     ]
    },
    {
     "ename": "AssertionError",
     "evalue": "",
     "output_type": "error",
     "traceback": [
      "\u001b[1;31m---------------------------------------------------------------------------\u001b[0m",
      "\u001b[1;31mAssertionError\u001b[0m                            Traceback (most recent call last)",
      "\u001b[1;32m<ipython-input-20-d77bf258f187>\u001b[0m in \u001b[0;36m<module>\u001b[1;34m()\u001b[0m\n\u001b[0;32m     33\u001b[0m \u001b[1;33m\u001b[0m\u001b[0m\n\u001b[0;32m     34\u001b[0m \u001b[1;34m\"\"\"Unit Tests\"\"\"\u001b[0m\u001b[1;33m\u001b[0m\u001b[0m\n\u001b[1;32m---> 35\u001b[1;33m \u001b[1;32massert\u001b[0m \u001b[0mcommit_hour\u001b[0m\u001b[1;33m(\u001b[0m\u001b[1;33m)\u001b[0m \u001b[1;33m==\u001b[0m \u001b[1;33m(\u001b[0m\u001b[1;36m100\u001b[0m\u001b[1;33m,\u001b[0m \u001b[1;34m'10'\u001b[0m\u001b[1;33m)\u001b[0m\u001b[1;33m\u001b[0m\u001b[0m\n\u001b[0m\u001b[0;32m     36\u001b[0m \u001b[0mprint\u001b[0m\u001b[1;33m(\u001b[0m\u001b[1;34m'Passed unit test.'\u001b[0m\u001b[1;33m)\u001b[0m\u001b[1;33m\u001b[0m\u001b[0m\n\u001b[0;32m     37\u001b[0m \u001b[1;33m\u001b[0m\u001b[0m\n",
      "\u001b[1;31mAssertionError\u001b[0m: "
     ]
    }
   ],
   "source": [
    "\"\"\"commit_hour() prompts the user for a text file to scan.  \\n\n",
    "The program then scans the file for lines containing the world \\n\n",
    "the word \\'From' and splits the line into a list. As we are only \\n\n",
    "concerned with lists containing more than two items, the program will \\n\n",
    "discard lines shorter than this, as they do not contain valid timestamps. \\n\\n\n",
    "\n",
    "The program will then sort the timestamps and return one per line with \\n\n",
    "the most number of commits, along with the total number of commits.\"\"\"\n",
    "\n",
    "def commit_hour():\n",
    "    filename = input(\"input filename \")\n",
    "    file = open(filename, 'r')\n",
    "    hour_lst = []\n",
    "    for line in file:\n",
    "        if \"From\" in line:\n",
    "            if len(line.split()) > 2:\n",
    "                a = line.split()\n",
    "                b = a[5]\n",
    "                hour_lst.append(b[:2])\n",
    "                   \n",
    "    fin_count_hour = [] \n",
    "    for item in range(len(hour_lst)):\n",
    "        commit_count = hour_lst.count(hour_lst[item])\n",
    "        commit_time = hour_lst[item]\n",
    "        commit_tuple = commit_count, commit_time\n",
    "        fin_count_hour.append(commit_tuple)\n",
    "        fin_count_hour.sort(reverse=True)\n",
    "    \n",
    "    for item in range(len(fin_count_hour)):\n",
    "        if fin_count_hour[item] != fin_count_hour[item - 1]:\n",
    "            print(fin_count_hour[item])\n",
    "    file.close()\n",
    "  \n",
    "\"\"\"Unit Tests\"\"\"\n",
    "assert commit_hour() == (100, '10')\n",
    "print('Passed unit test.')\n",
    "\n",
    "commit_hour()\n",
    "\n",
    "\n",
    "                               "
   ]
  },
  {
   "cell_type": "markdown",
   "metadata": {},
   "source": [
    "## Refactor Attempt"
   ]
  },
  {
   "cell_type": "code",
   "execution_count": 4,
   "metadata": {
    "collapsed": false
   },
   "outputs": [],
   "source": [
    "def main():\n",
    "    open_file()\n",
    "    foo = input(\"Type a word to search (Case sensitive!). > \")\n",
    "    print(file)\n",
    "    #line_scan(foo)\n",
    "        \n",
    "def open_file():\n",
    "    filename = input(\"input filename \")\n",
    "    file = open(filename, 'r')\n",
    "    return file\n",
    "    \n",
    "def line_scan(foo):\n",
    "    line_lst = []\n",
    "    word = str(foo)\n",
    "    for line in file:\n",
    "        if word in line:\n",
    "            if len(line.split()) > 2:\n",
    "                a = line.split()\n",
    "                line_lst.append(a[1])\n",
    "    return line_lst \n",
    "    \n",
    "def count_lst(line_lst): # A list of lines that meet our search criteria\n",
    "    num_lst = []\n",
    "    for item in range(len(line_lst)):\n",
    "        email = line_lst[item]\n",
    "        commit = line_lst.count(line_lst[item])\n",
    "        num = commit, email\n",
    "        num_lst.append(num)\n",
    "    num_lst.sort(reverse=True)\n",
    "\n",
    "    print(num_lst[0])\n",
    "\n",
    "    file.close()\n",
    "    \n",
    "#Unit Tests\"\"\"\n",
    "#assert commit_address() == (100, 'email@email.net')\n",
    "#print('Passed unit test.')    \n",
    "    \n",
    "\n"
   ]
  },
  {
   "cell_type": "code",
   "execution_count": 5,
   "metadata": {
    "collapsed": false
   },
   "outputs": [
    {
     "name": "stdout",
     "output_type": "stream",
     "text": [
      "input filename mbox.txt\n",
      "Type a word to search (Case sensitive!). > From\n"
     ]
    },
    {
     "ename": "NameError",
     "evalue": "name 'file' is not defined",
     "output_type": "error",
     "traceback": [
      "\u001b[1;31m---------------------------------------------------------------------------\u001b[0m",
      "\u001b[1;31mNameError\u001b[0m                                 Traceback (most recent call last)",
      "\u001b[1;32m<ipython-input-5-58ca95c5b364>\u001b[0m in \u001b[0;36m<module>\u001b[1;34m()\u001b[0m\n\u001b[1;32m----> 1\u001b[1;33m \u001b[0mmain\u001b[0m\u001b[1;33m(\u001b[0m\u001b[1;33m)\u001b[0m\u001b[1;33m\u001b[0m\u001b[0m\n\u001b[0m",
      "\u001b[1;32m<ipython-input-4-0120abe8d5fc>\u001b[0m in \u001b[0;36mmain\u001b[1;34m()\u001b[0m\n\u001b[0;32m      2\u001b[0m     \u001b[0mopen_file\u001b[0m\u001b[1;33m(\u001b[0m\u001b[1;33m)\u001b[0m\u001b[1;33m\u001b[0m\u001b[0m\n\u001b[0;32m      3\u001b[0m     \u001b[0mfoo\u001b[0m \u001b[1;33m=\u001b[0m \u001b[0minput\u001b[0m\u001b[1;33m(\u001b[0m\u001b[1;34m\"Type a word to search (Case sensitive!). > \"\u001b[0m\u001b[1;33m)\u001b[0m\u001b[1;33m\u001b[0m\u001b[0m\n\u001b[1;32m----> 4\u001b[1;33m     \u001b[0mline_scan\u001b[0m\u001b[1;33m(\u001b[0m\u001b[0mfoo\u001b[0m\u001b[1;33m)\u001b[0m\u001b[1;33m\u001b[0m\u001b[0m\n\u001b[0m\u001b[0;32m      5\u001b[0m \u001b[1;33m\u001b[0m\u001b[0m\n\u001b[0;32m      6\u001b[0m \u001b[1;32mdef\u001b[0m \u001b[0mopen_file\u001b[0m\u001b[1;33m(\u001b[0m\u001b[1;33m)\u001b[0m\u001b[1;33m:\u001b[0m\u001b[1;33m\u001b[0m\u001b[0m\n",
      "\u001b[1;32m<ipython-input-4-0120abe8d5fc>\u001b[0m in \u001b[0;36mline_scan\u001b[1;34m(foo)\u001b[0m\n\u001b[0;32m     12\u001b[0m     \u001b[0mline_lst\u001b[0m \u001b[1;33m=\u001b[0m \u001b[1;33m[\u001b[0m\u001b[1;33m]\u001b[0m\u001b[1;33m\u001b[0m\u001b[0m\n\u001b[0;32m     13\u001b[0m     \u001b[0mword\u001b[0m \u001b[1;33m=\u001b[0m \u001b[0mstr\u001b[0m\u001b[1;33m(\u001b[0m\u001b[0mfoo\u001b[0m\u001b[1;33m)\u001b[0m\u001b[1;33m\u001b[0m\u001b[0m\n\u001b[1;32m---> 14\u001b[1;33m     \u001b[1;32mfor\u001b[0m \u001b[0mline\u001b[0m \u001b[1;32min\u001b[0m \u001b[0mfile\u001b[0m\u001b[1;33m:\u001b[0m\u001b[1;33m\u001b[0m\u001b[0m\n\u001b[0m\u001b[0;32m     15\u001b[0m         \u001b[1;32mif\u001b[0m \u001b[0mword\u001b[0m \u001b[1;32min\u001b[0m \u001b[0mline\u001b[0m\u001b[1;33m:\u001b[0m\u001b[1;33m\u001b[0m\u001b[0m\n\u001b[0;32m     16\u001b[0m             \u001b[1;32mif\u001b[0m \u001b[0mlen\u001b[0m\u001b[1;33m(\u001b[0m\u001b[0mline\u001b[0m\u001b[1;33m.\u001b[0m\u001b[0msplit\u001b[0m\u001b[1;33m(\u001b[0m\u001b[1;33m)\u001b[0m\u001b[1;33m)\u001b[0m \u001b[1;33m>\u001b[0m \u001b[1;36m2\u001b[0m\u001b[1;33m:\u001b[0m\u001b[1;33m\u001b[0m\u001b[0m\n",
      "\u001b[1;31mNameError\u001b[0m: name 'file' is not defined"
     ]
    }
   ],
   "source": [
    "main()"
   ]
  },
  {
   "cell_type": "code",
   "execution_count": null,
   "metadata": {
    "collapsed": true
   },
   "outputs": [],
   "source": []
  }
 ],
 "metadata": {
  "kernelspec": {
   "display_name": "Python 3",
   "language": "python",
   "name": "python3"
  },
  "language_info": {
   "codemirror_mode": {
    "name": "ipython",
    "version": 3
   },
   "file_extension": ".py",
   "mimetype": "text/x-python",
   "name": "python",
   "nbconvert_exporter": "python",
   "pygments_lexer": "ipython3",
   "version": "3.4.3"
  }
 },
 "nbformat": 4,
 "nbformat_minor": 0
}
