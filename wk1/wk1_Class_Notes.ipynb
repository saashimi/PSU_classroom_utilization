{
 "cells": [
  {
   "cell_type": "code",
   "execution_count": 12,
   "metadata": {
    "collapsed": false
   },
   "outputs": [
    {
     "data": {
      "text/plain": [
       "2"
      ]
     },
     "execution_count": 12,
     "metadata": {},
     "output_type": "execute_result"
    }
   ],
   "source": [
    "# tuple packing\n",
    "temp = 1, 2\n",
    "a, b = temp\n",
    "# unpacking\n",
    "a\n",
    "b"
   ]
  },
  {
   "cell_type": "code",
   "execution_count": 8,
   "metadata": {
    "collapsed": false
   },
   "outputs": [
    {
     "name": "stdout",
     "output_type": "stream",
     "text": [
      "(0, 'a')\n",
      "(1, 'b')\n",
      "(2, 'c')\n"
     ]
    }
   ],
   "source": [
    "lst = [\"a\", \"b\", \"c\"]\n",
    "# Enumerate makes tuples of the index\n",
    "for elem in enumerate(lst):\n",
    "    print(elem)"
   ]
  },
  {
   "cell_type": "code",
   "execution_count": 9,
   "metadata": {
    "collapsed": false
   },
   "outputs": [
    {
     "data": {
      "text/plain": [
       "43"
      ]
     },
     "execution_count": 9,
     "metadata": {},
     "output_type": "execute_result"
    }
   ],
   "source": [
    "# packing and unpacking Pythonically\n",
    "tup = ('Name', 43)\n",
    "name, age = tup\n",
    "age #outputs just the age"
   ]
  },
  {
   "cell_type": "code",
   "execution_count": 25,
   "metadata": {
    "collapsed": false,
    "scrolled": true
   },
   "outputs": [
    {
     "name": "stdout",
     "output_type": "stream",
     "text": [
      "['but', 'soft', 'what', 'light', 'in', 'yonder', 'window', 'breaks']\n",
      "['yonder', 'window', 'breaks', 'light', 'what', 'soft', 'but', 'in']\n"
     ]
    }
   ],
   "source": [
    "txt = 'but soft what light in yonder window breaks'\n",
    "words = txt.split()\n",
    "print(words)\n",
    "\n",
    "t = list()\n",
    "for word in words:\n",
    "   t.append((len(word), word)) # pack the tuple (decorate)\n",
    "\n",
    "t.sort(reverse=True) # sort the tuple (sort)\n",
    "\n",
    "res = list()    # print out the result (undecorate)\n",
    "for length, word in t:\n",
    "    res.append(word)\n",
    "\n",
    "print(res)\n",
    "\n"
   ]
  },
  {
   "cell_type": "code",
   "execution_count": 77,
   "metadata": {
    "collapsed": false
   },
   "outputs": [
    {
     "name": "stdout",
     "output_type": "stream",
     "text": [
      "Please enter three values: 1, 2\n"
     ]
    },
    {
     "ename": "ValueError",
     "evalue": "need more than 2 values to unpack",
     "output_type": "error",
     "traceback": [
      "\u001b[1;31m---------------------------------------------------------------------------\u001b[0m",
      "\u001b[1;31mValueError\u001b[0m                                Traceback (most recent call last)",
      "\u001b[1;32m<ipython-input-77-01fcbdb94874>\u001b[0m in \u001b[0;36m<module>\u001b[1;34m()\u001b[0m\n\u001b[0;32m     14\u001b[0m \u001b[1;33m\u001b[0m\u001b[0m\n\u001b[0;32m     15\u001b[0m \u001b[1;33m\u001b[0m\u001b[0m\n\u001b[1;32m---> 16\u001b[1;33m \u001b[0mthree_max\u001b[0m\u001b[1;33m(\u001b[0m\u001b[1;33m)\u001b[0m\u001b[1;33m\u001b[0m\u001b[0m\n\u001b[0m\u001b[0;32m     17\u001b[0m \u001b[0mtest_max\u001b[0m\u001b[1;33m(\u001b[0m\u001b[0mlst\u001b[0m\u001b[1;33m)\u001b[0m\u001b[1;33m\u001b[0m\u001b[0m\n",
      "\u001b[1;32m<ipython-input-77-01fcbdb94874>\u001b[0m in \u001b[0;36mthree_max\u001b[1;34m()\u001b[0m\n\u001b[0;32m      1\u001b[0m \u001b[1;32mdef\u001b[0m \u001b[0mthree_max\u001b[0m\u001b[1;33m(\u001b[0m\u001b[1;33m)\u001b[0m\u001b[1;33m:\u001b[0m\u001b[1;33m\u001b[0m\u001b[0m\n\u001b[1;32m----> 2\u001b[1;33m     \u001b[0mx1\u001b[0m\u001b[1;33m,\u001b[0m \u001b[0mx2\u001b[0m\u001b[1;33m,\u001b[0m \u001b[0mx3\u001b[0m \u001b[1;33m=\u001b[0m \u001b[0meval\u001b[0m\u001b[1;33m(\u001b[0m\u001b[0minput\u001b[0m\u001b[1;33m(\u001b[0m\u001b[1;34m\"Please enter three values: \"\u001b[0m\u001b[1;33m)\u001b[0m\u001b[1;33m)\u001b[0m\u001b[1;33m\u001b[0m\u001b[0m\n\u001b[0m\u001b[0;32m      3\u001b[0m     \u001b[0mlst\u001b[0m \u001b[1;33m=\u001b[0m \u001b[1;33m[\u001b[0m\u001b[0mx1\u001b[0m\u001b[1;33m,\u001b[0m \u001b[0mx2\u001b[0m\u001b[1;33m,\u001b[0m \u001b[0mx3\u001b[0m\u001b[1;33m]\u001b[0m\u001b[1;33m\u001b[0m\u001b[0m\n\u001b[0;32m      4\u001b[0m     \u001b[0mprint\u001b[0m\u001b[1;33m(\u001b[0m\u001b[0mlst\u001b[0m\u001b[1;33m)\u001b[0m\u001b[1;33m\u001b[0m\u001b[0m\n\u001b[0;32m      5\u001b[0m \u001b[1;33m\u001b[0m\u001b[0m\n",
      "\u001b[1;31mValueError\u001b[0m: need more than 2 values to unpack"
     ]
    }
   ],
   "source": [
    "##KS Attempt\n",
    "\n",
    "def three_max():\n",
    "    #print(\"The largest value is\", maximum)\n",
    "\n",
    "def test_max(lst):\n",
    "    assert len(lst) == 3 \n",
    "    assert type(lst) == list\n",
    "    assert lst[0] != lst[1] and lst[0] != lst[2]\n",
    "    assert lst[0] > lst[1]\n",
    "    print(\"Success: Passed\")\n",
    "\n",
    "\n",
    "three_max()\n",
    "test_max(lst)"
   ]
  },
  {
   "cell_type": "code",
   "execution_count": 127,
   "metadata": {
    "collapsed": false
   },
   "outputs": [],
   "source": [
    "### In-class assert test\n",
    "def n_max():\n",
    "    inpt = eval(input(\"Please enter some values: \"))\n",
    "    lst = list(inpt)\n",
    "    \n",
    "    #maximum = max_val(inpt)\n",
    "    max = lst[0]\n",
    "    for x in lst:\n",
    "        if x > lst[0]:\n",
    "            max = x\n",
    "        return max\n",
    "    \n",
    "    print(\"The largest value is\", max)\n",
    "    \n",
    "    \n",
    "### Writing the assert tests:\n",
    "def max_val(lst):\n",
    "    \"\"\"Input: three integers\n",
    "    Returns: maximum\n",
    "    int is the max integer.\"\"\"\n",
    "    return max(lst)\n",
    "\n",
    "assert max_val([1, 2, 3]) == 3\n",
    "assert max_val([1, 1, 1]) == 1\n",
    "assert max_val([1, 2, 2]) == 2\n",
    "    \n"
   ]
  },
  {
   "cell_type": "code",
   "execution_count": 128,
   "metadata": {
    "collapsed": false
   },
   "outputs": [
    {
     "name": "stdout",
     "output_type": "stream",
     "text": [
      "Please enter some values: 1, 2, 3, 4, 5\n"
     ]
    },
    {
     "ename": "TypeError",
     "evalue": "'int' object is not iterable",
     "output_type": "error",
     "traceback": [
      "\u001b[1;31m---------------------------------------------------------------------------\u001b[0m",
      "\u001b[1;31mTypeError\u001b[0m                                 Traceback (most recent call last)",
      "\u001b[1;32m<ipython-input-128-b8cc821d56a2>\u001b[0m in \u001b[0;36m<module>\u001b[1;34m()\u001b[0m\n\u001b[1;32m----> 1\u001b[1;33m \u001b[0mn_max\u001b[0m\u001b[1;33m(\u001b[0m\u001b[1;33m)\u001b[0m\u001b[1;33m\u001b[0m\u001b[0m\n\u001b[0m",
      "\u001b[1;32m<ipython-input-127-deda725cd389>\u001b[0m in \u001b[0;36mn_max\u001b[1;34m()\u001b[0m\n\u001b[0;32m      6\u001b[0m     \u001b[1;31m#maximum = max_val(inpt)\u001b[0m\u001b[1;33m\u001b[0m\u001b[1;33m\u001b[0m\u001b[0m\n\u001b[0;32m      7\u001b[0m     \u001b[0mlength\u001b[0m \u001b[1;33m=\u001b[0m \u001b[0mlen\u001b[0m\u001b[1;33m(\u001b[0m\u001b[0mlst\u001b[0m\u001b[1;33m)\u001b[0m\u001b[1;33m\u001b[0m\u001b[0m\n\u001b[1;32m----> 8\u001b[1;33m     \u001b[1;32mfor\u001b[0m \u001b[0mx\u001b[0m \u001b[1;32min\u001b[0m \u001b[0mlength\u001b[0m\u001b[1;33m:\u001b[0m\u001b[1;33m\u001b[0m\u001b[0m\n\u001b[0m\u001b[0;32m      9\u001b[0m         \u001b[1;32mif\u001b[0m \u001b[0mx\u001b[0m \u001b[1;33m>\u001b[0m \u001b[0mlst\u001b[0m\u001b[1;33m[\u001b[0m\u001b[1;36m0\u001b[0m\u001b[1;33m]\u001b[0m\u001b[1;33m:\u001b[0m\u001b[1;33m\u001b[0m\u001b[0m\n\u001b[0;32m     10\u001b[0m             \u001b[0mmax\u001b[0m \u001b[1;33m=\u001b[0m \u001b[0mx\u001b[0m\u001b[1;33m\u001b[0m\u001b[0m\n",
      "\u001b[1;31mTypeError\u001b[0m: 'int' object is not iterable"
     ]
    }
   ],
   "source": [
    "n_max()"
   ]
  },
  {
   "cell_type": "markdown",
   "metadata": {},
   "source": [
    "## Dictionaries - Ex1\n",
    "Check for upper and lower case compatibility, return the result alphabetically."
   ]
  },
  {
   "cell_type": "code",
   "execution_count": 1,
   "metadata": {
    "collapsed": false
   },
   "outputs": [],
   "source": [
    "def alpha_comp():\n",
    "    my_str0 = input(\"Input a string. > \")\n",
    "    \n",
    "    my_str0 = my_str.lower()\n",
    "    for char in my_str0.replace(\" \", \"\"):\n",
    "        my_str0 = my_str0.lower()\n",
    "        \n",
    "    my_str = list(my_str0)\n",
    "    alpha_dict = {}\n",
    "    \n",
    "    for item in range(len(my_str)):\n",
    "        alpha = my_str[item]\n",
    "        count = my_str.count(alpha) \n",
    "        alpha_dict[alpha] = my_str.count(alpha) \n",
    "    \n",
    "    for key in sorted(alpha_dict):\n",
    "        print(key, alpha_dict[key])\n",
    "    \n",
    "    "
   ]
  },
  {
   "cell_type": "code",
   "execution_count": 3,
   "metadata": {
    "collapsed": false
   },
   "outputs": [
    {
     "name": "stdout",
     "output_type": "stream",
     "text": [
      "Input a string. > this is not a test\n",
      "  4\n",
      "a 1\n",
      "e 1\n",
      "h 1\n",
      "i 2\n",
      "n 1\n",
      "o 1\n",
      "s 3\n",
      "t 4\n"
     ]
    }
   ],
   "source": [
    "alpha_comp()"
   ]
  },
  {
   "cell_type": "code",
   "execution_count": 169,
   "metadata": {
    "collapsed": false
   },
   "outputs": [
    {
     "name": "stdout",
     "output_type": "stream",
     "text": [
      "a 2\n",
      "c 1\n",
      "d 1\n",
      "e 5\n",
      "g 1\n",
      "h 2\n",
      "i 4\n",
      "l 2\n",
      "n 2\n",
      "o 1\n",
      "p 2\n",
      "r 4\n",
      "s 5\n",
      "t 5\n",
      "u 1\n",
      "w 2\n"
     ]
    }
   ],
   "source": [
    "\"\"\"Thunder's Solution\"\"\"\n",
    "\n",
    "str1 = \"ThiS is String with Upper and lower case Letters\"\n",
    "\n",
    "res = {}\n",
    "for char in str1.replace(\" \", \"\"):\n",
    "    char = char.lower()        \n",
    "    if char in res:    \n",
    "        res[char] += 1\n",
    "    else:\n",
    "        res[char] = 1\n",
    "        \n",
    "for key in sorted(res):\n",
    "    print (key, res[key])\n"
   ]
  },
  {
   "cell_type": "code",
   "execution_count": 139,
   "metadata": {
    "collapsed": false
   },
   "outputs": [
    {
     "name": "stdout",
     "output_type": "stream",
     "text": [
      "{'e': 5, 'r': 4, 'd': 1, 'h': 2, 't': 5, 'l': 2, 'c': 1, 'w': 2, 'p': 2, 'i': 4, 's': 5, 'g': 1, 'o': 1, 'u': 1, 'a': 2, 'n': 2}\n"
     ]
    }
   ],
   "source": [
    "\"\"\"Thunder's Fancier Solution\"\"\"\n",
    "str1 = \"ThiS is String with Upper and lower case Letters\"\n",
    "\n",
    "res = {}\n",
    "for char in str1.replace(\" \", \"\"):\n",
    "    char = char.lower()\n",
    "    res[char] = res.get(char, 0) + 1 \n",
    "\n",
    "print(res)"
   ]
  },
  {
   "cell_type": "markdown",
   "metadata": {},
   "source": [
    "## Dictionaries - Ex2"
   ]
  },
  {
   "cell_type": "code",
   "execution_count": 174,
   "metadata": {
    "collapsed": false
   },
   "outputs": [
    {
     "ename": "IndentationError",
     "evalue": "expected an indented block (<ipython-input-174-f34b64cdbbef>, line 4)",
     "output_type": "error",
     "traceback": [
      "\u001b[1;36m  File \u001b[1;32m\"<ipython-input-174-f34b64cdbbef>\"\u001b[1;36m, line \u001b[1;32m4\u001b[0m\n\u001b[1;33m    def test(add_fruit):\u001b[0m\n\u001b[1;37m      ^\u001b[0m\n\u001b[1;31mIndentationError\u001b[0m\u001b[1;31m:\u001b[0m expected an indented block\n"
     ]
    }
   ],
   "source": [
    "def add_fruit(inventory, fruit, quantity = 0):\n",
    "    \n",
    "    \n",
    "def test():\n",
    "    new_inventory = {} \n",
    "    return\n",
    "    \n",
    "# Make these tests work...\n",
    "def test_fun():\n",
    "    assert new_inventory = {}\n",
    "    assert add_fruit(new_inventory, \"strawberries\", 10)\n",
    "    assert test(\"strawberries\" in new_inventory)\n",
    "    assert test(new_inventory[\"strawberries\"] == 10)\n",
    "    assert add_fruit(new_inventory, \"strawberries\", 25)\n",
    "    assert test(new_inventory[\"strawberries\"] == 35)"
   ]
  },
  {
   "cell_type": "code",
   "execution_count": 170,
   "metadata": {
    "collapsed": false
   },
   "outputs": [
    {
     "ename": "IndentationError",
     "evalue": "expected an indented block (<ipython-input-170-5f5d8f028e18>, line 4)",
     "output_type": "error",
     "traceback": [
      "\u001b[1;36m  File \u001b[1;32m\"<ipython-input-170-5f5d8f028e18>\"\u001b[1;36m, line \u001b[1;32m4\u001b[0m\n\u001b[1;33m    \"\"\"If key in dct, return associated value. Else return default\"\"\"\u001b[0m\n\u001b[1;37m                                                                    ^\u001b[0m\n\u001b[1;31mIndentationError\u001b[0m\u001b[1;31m:\u001b[0m expected an indented block\n"
     ]
    }
   ],
   "source": [
    "#reconstructing the get function\n",
    "\n",
    "def get_(dct, key, default):\n",
    "\"\"\"If key in dct, return associated value. Else return default\"\"\"\n",
    "    try:\n",
    "        return(dct[key])\n",
    "    except KeyError:\n",
    "        return default\n",
    "\n",
    "pass\n",
    "\n",
    "from get import get_ as get\n",
    "\n",
    "def get_test():\n",
    "    assert get({'a':1}, 'a', 0) == 1\n",
    "    assert get({'a':1}, 'b', 0) == 0\n",
    "    assert get({'a':1}, 'b', 'hi') == 'hi'\n",
    "    \n",
    "if __name__ == \"__main__\":\n",
    "    get_test()"
   ]
  },
  {
   "cell_type": "code",
   "execution_count": 172,
   "metadata": {
    "collapsed": false
   },
   "outputs": [
    {
     "data": {
      "text/plain": [
       "False"
      ]
     },
     "execution_count": 172,
     "metadata": {},
     "output_type": "execute_result"
    }
   ],
   "source": [
    "str1 = \"From you to me\"\n",
    "lst = [x for x in str1 if x is 'o' or 'w']\n",
    "'w' in lst\n",
    "\n",
    "\"\"\"Python reads this as:\n",
    "        for x in str:\n",
    "            if (x is 'o') or ('w')\"\"\""
   ]
  },
  {
   "cell_type": "code",
   "execution_count": 21,
   "metadata": {
    "collapsed": false
   },
   "outputs": [],
   "source": [
    "def fun(x):\n",
    "    return(x + 2)\n",
    "    \n",
    "assert fun(2) == 4"
   ]
  },
  {
   "cell_type": "code",
   "execution_count": 20,
   "metadata": {
    "collapsed": false
   },
   "outputs": [
    {
     "data": {
      "text/plain": [
       "4"
      ]
     },
     "execution_count": 20,
     "metadata": {},
     "output_type": "execute_result"
    }
   ],
   "source": [
    "fun(2)"
   ]
  },
  {
   "cell_type": "code",
   "execution_count": null,
   "metadata": {
    "collapsed": true
   },
   "outputs": [],
   "source": []
  }
 ],
 "metadata": {
  "kernelspec": {
   "display_name": "Python 3",
   "language": "python",
   "name": "python3"
  },
  "language_info": {
   "codemirror_mode": {
    "name": "ipython",
    "version": 3
   },
   "file_extension": ".py",
   "mimetype": "text/x-python",
   "name": "python",
   "nbconvert_exporter": "python",
   "pygments_lexer": "ipython3",
   "version": "3.4.3"
  }
 },
 "nbformat": 4,
 "nbformat_minor": 0
}
