{
 "cells": [
  {
   "cell_type": "markdown",
   "metadata": {},
   "source": [
    "##Code \n",
    "Not very pythonic at this point"
   ]
  },
  {
   "cell_type": "code",
   "execution_count": 34,
   "metadata": {
    "collapsed": false
   },
   "outputs": [],
   "source": [
    "## Constants used by this program\n",
    "CONSONANTS = \"bcdfghjklmnpqrstvwyz\" \n",
    "VOWELS = \"aeiou\"  \n",
    "\n",
    "def convert_pin(pin):\n",
    "    if pin is None:\n",
    "        return ValueError\n",
    "\n",
    "    elif type(pin) is str:\n",
    "        return ValueError\n",
    "    \n",
    "    elif pin == 0:\n",
    "        return ValueError\n",
    "    \n",
    "    upin = int(pin)\n",
    "    con_lst = list(CONSONANTS)\n",
    "    vow_lst = list(VOWELS)\n",
    "    pin_lst = []\n",
    "    \n",
    "# create an algorithm for this later    \n",
    "    tens = upin % 100\n",
    "    hnds = upin // 100\n",
    "    vow1 = tens % 5\n",
    "    con1 = tens // 5\n",
    "    vow2 = hnds % 5\n",
    "    con2 = hnds // 5\n",
    "# print(tens, hnds, vow1, con1, vow2, con2)\n",
    "    \n",
    "    pin_lst.insert(0, vow_lst[vow1])\n",
    "    pin_lst.insert(-1, con_lst[con1])\n",
    "    pin_lst.insert(-2, vow_lst[vow2])\n",
    "    pin_lst.insert(-3, con_lst[con2])  \n",
    "    \n",
    "    strg_lst = ''.join(str(e) for e in pin_lst)\n",
    "    return strg_lst"
   ]
  },
  {
   "cell_type": "code",
   "execution_count": 46,
   "metadata": {
    "collapsed": false
   },
   "outputs": [
    {
     "data": {
      "text/plain": [
       "'fuzi'"
      ]
     },
     "execution_count": 46,
     "metadata": {},
     "output_type": "execute_result"
    }
   ],
   "source": [
    "convert_pin(1997)"
   ]
  },
  {
   "cell_type": "markdown",
   "metadata": {},
   "source": [
    "## Unit Test"
   ]
  },
  {
   "cell_type": "code",
   "execution_count": 42,
   "metadata": {
    "collapsed": false
   },
   "outputs": [
    {
     "name": "stdout",
     "output_type": "stream",
     "text": [
      "Success: test_convert_pin\n"
     ]
    }
   ],
   "source": [
    "# %load test_foo.py\n",
    "from nose.tools import assert_equal\n",
    "\n",
    "\n",
    "class Testconvert_pin(object):\n",
    "\n",
    "    def test_convert_pin(self):\n",
    "        assert_equal(convert_pin(None), ValueError)\n",
    "        assert_equal(convert_pin('absd'), ValueError)\n",
    "        assert_equal(convert_pin(0), ValueError)\n",
    "        assert_equal(convert_pin(4327), 'lohi')\n",
    "        assert_equal(convert_pin(1298), 'dizo')\n",
    "        print('Success: test_convert_pin')\n",
    "\n",
    "def main():\n",
    "    test = Testconvert_pin()\n",
    "    test.test_convert_pin()\n",
    "\n",
    "if __name__ == '__main__':\n",
    "    main()"
   ]
  },
  {
   "cell_type": "code",
   "execution_count": null,
   "metadata": {
    "collapsed": true
   },
   "outputs": [],
   "source": []
  }
 ],
 "metadata": {
  "kernelspec": {
   "display_name": "Python 3",
   "language": "python",
   "name": "python3"
  },
  "language_info": {
   "codemirror_mode": {
    "name": "ipython",
    "version": 3
   },
   "file_extension": ".py",
   "mimetype": "text/x-python",
   "name": "python",
   "nbconvert_exporter": "python",
   "pygments_lexer": "ipython3",
   "version": "3.4.3"
  }
 },
 "nbformat": 4,
 "nbformat_minor": 0
}
