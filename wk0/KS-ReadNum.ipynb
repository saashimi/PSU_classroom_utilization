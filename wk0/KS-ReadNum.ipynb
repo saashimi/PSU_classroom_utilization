{
 "cells": [
  {
   "cell_type": "markdown",
   "metadata": {},
   "source": [
    "## Round 2\n",
    "It works!"
   ]
  },
  {
   "cell_type": "code",
   "execution_count": null,
   "metadata": {
    "collapsed": false
   },
   "outputs": [
    {
     "name": "stdout",
     "output_type": "stream",
     "text": [
      "Input a number. > 5\n",
      "[5]\n",
      "Input a number. > 4\n",
      "[5, 4]\n",
      "Input a number. > \n",
      "Invalid Input.\n",
      "Input a number. > 3\n",
      "[5, 4, 3]\n",
      "Input a number. > 4\n",
      "[5, 4, 3, 4]\n",
      "Input a number. > 5\n",
      "[5, 4, 3, 4, 5]\n",
      "Input a number. > done\n",
      "21 5 4.2\n"
     ]
    }
   ],
   "source": [
    "lst = []\n",
    "def read_num():\n",
    "     \n",
    "    try:\n",
    "        while len(lst) >= 0:\n",
    "            u_input = input(\"Input a number. > \") \n",
    "            if u_input != \"done\":\n",
    "                num = int(u_input)\n",
    "                lst.append(num)\n",
    "                print(lst)\n",
    "\n",
    "            else:\n",
    "                print(sum(lst), len(lst), sum(lst)/len(lst))\n",
    "\n",
    "    except ValueError:\n",
    "        print(\"Invalid Input.\")    \n",
    "        return read_num()\n",
    "\n",
    "read_num()"
   ]
  },
  {
   "cell_type": "code",
   "execution_count": null,
   "metadata": {
    "collapsed": true
   },
   "outputs": [],
   "source": []
  }
 ],
 "metadata": {
  "kernelspec": {
   "display_name": "Python 3",
   "language": "python",
   "name": "python3"
  },
  "language_info": {
   "codemirror_mode": {
    "name": "ipython",
    "version": 3
   },
   "file_extension": ".py",
   "mimetype": "text/x-python",
   "name": "python",
   "nbconvert_exporter": "python",
   "pygments_lexer": "ipython3",
   "version": "3.4.3"
  }
 },
 "nbformat": 4,
 "nbformat_minor": 0
}
