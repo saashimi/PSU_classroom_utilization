{
 "cells": [
  {
   "cell_type": "code",
   "execution_count": 1,
   "metadata": {
    "collapsed": false
   },
   "outputs": [
    {
     "name": "stdout",
     "output_type": "stream",
     "text": [
      "i equals 0\n",
      "i equals 2\n",
      "i equals 4\n",
      "i equals 6\n",
      "i equals 8\n",
      "i equals 10\n",
      "i equals 12\n",
      "i equals 14\n",
      "i equals 16\n",
      "i equals 18\n"
     ]
    }
   ],
   "source": [
    "for i in range(20):\n",
    "    if i%2 == 0:\n",
    "        print(\"i equals\", i)\n"
   ]
  },
  {
   "cell_type": "code",
   "execution_count": 3,
   "metadata": {
    "collapsed": false
   },
   "outputs": [
    {
     "name": "stdout",
     "output_type": "stream",
     "text": [
      "Success: test_list_primes\n"
     ]
    }
   ],
   "source": [
    "def list_primes(n):\n",
    "    primes = []\n",
    "    for p in range(2, n + 1):\n",
    "        for num in range(2, p):\n",
    "            if p % num == 0:\n",
    "                break\n",
    "        else:\n",
    "            primes.append(p)\n",
    "    return primes\n",
    "            \n",
    "    # TODO: Implement me\n",
    "    pass\n",
    "\n",
    "# %load test_list_primes.py\n",
    "from nose.tools import assert_equal\n",
    "\n",
    "\n",
    "class Test_list_primes(object):\n",
    "\n",
    "    def test_list_primes(self):\n",
    "        assert_equal(list_primes(1), [])\n",
    "        assert_equal(list_primes(2), [2])\n",
    "        assert_equal(list_primes(7), [2, 3, 5, 7])\n",
    "        assert_equal(list_primes(9), list_primes(7))\n",
    "        print('Success: test_list_primes')\n",
    "\n",
    "\n",
    "def main():\n",
    "    test = Test_list_primes()\n",
    "    test.test_list_primes()\n",
    "\n",
    "\n",
    "if __name__ == '__main__':\n",
    "    main()\n"
   ]
  },
  {
   "cell_type": "code",
   "execution_count": null,
   "metadata": {
    "collapsed": true
   },
   "outputs": [],
   "source": []
  }
 ],
 "metadata": {
  "kernelspec": {
   "display_name": "Python 3",
   "language": "python",
   "name": "python3"
  },
  "language_info": {
   "codemirror_mode": {
    "name": "ipython",
    "version": 3
   },
   "file_extension": ".py",
   "mimetype": "text/x-python",
   "name": "python",
   "nbconvert_exporter": "python",
   "pygments_lexer": "ipython3",
   "version": "3.4.3"
  }
 },
 "nbformat": 4,
 "nbformat_minor": 0
}
