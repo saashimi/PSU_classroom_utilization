{
 "cells": [
  {
   "cell_type": "markdown",
   "metadata": {},
   "source": [
    "##Code \n",
    "Not very pythonic at this point"
   ]
  },
  {
   "cell_type": "code",
   "execution_count": 4,
   "metadata": {
    "collapsed": false
   },
   "outputs": [],
   "source": [
    " ## Constants used by this program\n",
    "CONSONANTS = \"bcdfghjklmnpqrstvwyz\" \n",
    "VOWELS = \"aeiou\" \n",
    "\n",
    "def convert_pin(pin):\n",
    "\n",
    "\n",
    "    if pin is None:\n",
    "        return ValueError\n",
    "\n",
    "    elif type(pin) is str:\n",
    "        return ValueError\n",
    "    \n",
    "    elif pin == 0:\n",
    "        return ValueError\n",
    "    \n",
    "    con_lst = list(CONSONANTS)\n",
    "    vow_lst = list(VOWELS)    \n",
    "    u_pin = str(pin)\n",
    "    length = len(u_pin)\n",
    "    pin_lst = []\n",
    "    \n",
    "### Converts a string a list of pairs.  If there are no pairs, \n",
    "### inserts a 0 before the leading number.\n",
    "\n",
    "    for char in range(0, length, 2):\n",
    "        try:\n",
    "            pair = (u_pin[char] + u_pin[char + 1])\n",
    "            pin_lst.append(pair)\n",
    "\n",
    "        except IndexError:\n",
    "            pin_lst = []\n",
    "            u_pin = \"0\" + str(pin)\n",
    "            for char in range(0, length, 2):\n",
    "                pair = (u_pin[char] + u_pin[char + 1])\n",
    "                pin_lst.append(pair)\n",
    "\n",
    "### Starts the list conversion by converting the paired strings\n",
    "### to integers                \n",
    "    int_lst = [int(i) for i in pin_lst] \n",
    "    print(int_lst)\n",
    "    n = len(int_lst)\n",
    "        \n",
    "### Takes an empty list and populates it with corresponding consonants    \n",
    "    fin_con_lst = []\n",
    "    for item in range(n):\n",
    "        a = int_lst[item]   \n",
    "        con_index = a // 5\n",
    "        con_alpha = con_lst[con_index]\n",
    "        fin_con_lst.append(con_alpha)\n",
    "        \n",
    "### Takes an empty list and populates it with corresponding vowels               \n",
    "    fin_vow_lst = []\n",
    "    for item in range(n):\n",
    "        a = int_lst[item]    \n",
    "        vow_index = a % 5\n",
    "        vow_alpha = vow_lst[vow_index]\n",
    "        fin_vow_lst.append(vow_alpha)\n",
    "\n",
    "### Takes an empty list and populates it with the consonant-vowel pairs        \n",
    "    final_word = []\n",
    "    for item in range(n):\n",
    "        pairs = fin_con_lst[item] + fin_vow_lst[item]\n",
    "        final_word.append(pairs)  \n",
    "        \n",
    "### Returns a final string\n",
    "    strg_lst = ''.join(str(e) for e in final_word)\n",
    "    return strg_lst\n",
    "\n",
    "### Converts an input string into a list of integers\n",
    "def convert_word(word):\n",
    "    CONSONANTS = \"bcdfghjklmnpqrstvwyz\" \n",
    "    VOWELS = \"aeiou\"\n",
    "    con_lst = list(CONSONANTS)\n",
    "    vow_lst = list(VOWELS) \n",
    "    \n",
    "    u_word = str(word)\n",
    "    length = len(u_word)\n",
    "    con_pin = []\n",
    "    vow_pin = []\n",
    "    for char in range(0, length, 2):\n",
    "        con = u_word[char] # this is a string of only consonants \n",
    "        con_index = con_lst.index(con) # this was the integer div result\n",
    "        con_pin.append(con_index)\n",
    "    \n",
    "    for char in range(1, length, 2):\n",
    "        vow = u_word[char]\n",
    "        vow_index = vow_lst.index(vow)\n",
    "        vow_pin.append(vow_index)\n",
    "\n",
    "    fin_pin = []\n",
    "    length2 = len(con_pin)\n",
    "    for item in range(length2):\n",
    "\n",
    "# using the formula a = qm + r\n",
    "        q = con_pin[item]\n",
    "        m = 5\n",
    "        r = vow_pin[item]\n",
    "        calc_pin = q * m + r\n",
    "        fin_pin.append(calc_pin)\n",
    "        print(fin_pin)\n",
    "        "
   ]
  },
  {
   "cell_type": "code",
   "execution_count": 5,
   "metadata": {
    "collapsed": false
   },
   "outputs": [
    {
     "name": "stdout",
     "output_type": "stream",
     "text": [
      "[8, 27, 97, 29, 47, 59, 48, 23, 92, 35, 10]\n"
     ]
    },
    {
     "data": {
      "text/plain": [
       "'cohizihumipumogoyikada'"
      ]
     },
     "execution_count": 5,
     "metadata": {},
     "output_type": "execute_result"
    }
   ],
   "source": [
    "convert_pin(827972947594823923510)"
   ]
  },
  {
   "cell_type": "code",
   "execution_count": 160,
   "metadata": {
    "collapsed": false
   },
   "outputs": [
    {
     "name": "stdout",
     "output_type": "stream",
     "text": [
      "[8, 27, 97, 29, 47, 59, 48, 23, 92, 35, 10]\n"
     ]
    }
   ],
   "source": [
    "convert_word('cohizihumipumogoyikada')"
   ]
  },
  {
   "cell_type": "markdown",
   "metadata": {},
   "source": [
    "## Unit Test"
   ]
  },
  {
   "cell_type": "code",
   "execution_count": 141,
   "metadata": {
    "collapsed": false
   },
   "outputs": [
    {
     "name": "stdout",
     "output_type": "stream",
     "text": [
      "[43, 27]\n",
      "[12, 98]\n",
      "Success: test_convert_pin\n"
     ]
    }
   ],
   "source": [
    "# %load test_foo.py\n",
    "from nose.tools import assert_equal\n",
    "\n",
    "\n",
    "class Testconvert_pin(object):\n",
    "\n",
    "    def test_convert_pin(self):\n",
    "        assert_equal(convert_pin(None), ValueError)\n",
    "        assert_equal(convert_pin('absd'), ValueError)\n",
    "        assert_equal(convert_pin(0), ValueError)\n",
    "        assert_equal(convert_pin(4327), 'lohi')\n",
    "        assert_equal(convert_pin(1298), 'dizo')\n",
    "        print('Success: test_convert_pin')\n",
    "\n",
    "def main():\n",
    "    test = Testconvert_pin()\n",
    "    test.test_convert_pin()\n",
    "\n",
    "if __name__ == '__main__':\n",
    "    main()"
   ]
  }
 ],
 "metadata": {
  "kernelspec": {
   "display_name": "Python 3",
   "language": "python",
   "name": "python3"
  },
  "language_info": {
   "codemirror_mode": {
    "name": "ipython",
    "version": 3
   },
   "file_extension": ".py",
   "mimetype": "text/x-python",
   "name": "python",
   "nbconvert_exporter": "python",
   "pygments_lexer": "ipython3",
   "version": "3.4.3"
  }
 },
 "nbformat": 4,
 "nbformat_minor": 0
}
