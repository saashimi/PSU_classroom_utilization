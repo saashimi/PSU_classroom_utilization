{
 "cells": [
  {
   "cell_type": "code",
   "execution_count": 59,
   "metadata": {
    "collapsed": false,
    "scrolled": true
   },
   "outputs": [],
   "source": [
    "def compress_string(string):\n",
    "    if string is None:\n",
    "        return None\n",
    "    \n",
    "    elif string == \"\":\n",
    "        return \"\"\n",
    "    \n",
    "    else:\n",
    "        lst = list(string)\n",
    "        n = len(lst)\n",
    "        comp_lst = []\n",
    "    \n",
    "        for i in range(n):\n",
    "            count = lst.count(lst[i])\n",
    "\n",
    "            if lst[i] != lst[i-1]:\n",
    "                count = lst.count(lst[i])\n",
    "                comp_lst.append(lst[i])\n",
    "                comp_lst.append(count)\n",
    "         \n",
    "        final_lst = ''.join(str(e) for e in comp_lst)\n",
    "\n",
    "        if len(final_lst) == len(lst):\n",
    "            strg_lst = ''.join(str(e) for e in lst)\n",
    "            final = str(strg_lst)\n",
    "            return final\n",
    "            \n",
    "        else:\n",
    "            final = str(final_lst)\n",
    "            return final\n"
   ]
  },
  {
   "cell_type": "code",
   "execution_count": 61,
   "metadata": {
    "collapsed": false
   },
   "outputs": [
    {
     "data": {
      "text/plain": [
       "'A3B1C2D4'"
      ]
     },
     "execution_count": 61,
     "metadata": {},
     "output_type": "execute_result"
    }
   ],
   "source": [
    "compress_string('AAABCCDDDD')"
   ]
  },
  {
   "cell_type": "markdown",
   "metadata": {},
   "source": [
    "# Unit Test"
   ]
  },
  {
   "cell_type": "code",
   "execution_count": 55,
   "metadata": {
    "collapsed": false
   },
   "outputs": [
    {
     "name": "stdout",
     "output_type": "stream",
     "text": [
      "Success: test_compress\n"
     ]
    }
   ],
   "source": [
    "from nose.tools import assert_equal\n",
    "\n",
    "\n",
    "class TestCompress(object):\n",
    "\n",
    "    def test_compress(self, func):\n",
    "        assert_equal(func(None), None)\n",
    "        assert_equal(func(''), '')\n",
    "        assert_equal(func('AABBCC'), 'AABBCC')\n",
    "        assert_equal(func('AAABCCDDDD'), 'A3B1C2D4')\n",
    "        print('Success: test_compress')\n",
    "\n",
    "\n",
    "def main():\n",
    "    test = TestCompress()\n",
    "    test.test_compress(compress_string)\n",
    "\n",
    "\n",
    "if __name__ == '__main__':\n",
    "    main()"
   ]
  }
 ],
 "metadata": {
  "kernelspec": {
   "display_name": "Python 3",
   "language": "python",
   "name": "python3"
  },
  "language_info": {
   "codemirror_mode": {
    "name": "ipython",
    "version": 3
   },
   "file_extension": ".py",
   "mimetype": "text/x-python",
   "name": "python",
   "nbconvert_exporter": "python",
   "pygments_lexer": "ipython3",
   "version": "3.4.3"
  }
 },
 "nbformat": 4,
 "nbformat_minor": 0
}
